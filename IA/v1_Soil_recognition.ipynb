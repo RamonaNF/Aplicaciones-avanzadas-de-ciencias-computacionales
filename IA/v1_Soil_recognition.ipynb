{
  "cells": [
    {
      "cell_type": "markdown",
      "metadata": {
        "id": "3cf_1MpmEzSd"
      },
      "source": [
        "# Desarrollo de aplicaciones avanzadas de ciencias computacionales\n",
        "\n",
        "#### TC3002B.201: IA\n",
        "Ramona Najera, A01423596\n"
      ]
    },
    {
      "cell_type": "markdown",
      "source": [
        "<br>\n",
        "<table>\n",
        "  <tr>\n",
        "    <th>Avance 1</th>\n",
        "    <th>Preguntas</th>\n",
        "  </tr>\n",
        "  <tr>\n",
        "    <td>- Obtener, generar, aumentar dataset <br><br>\n",
        "        - Separación training y test <br><br>\n",
        "        - Técnicas de escalamiento <br><br>\n",
        "        - Preprocesado de datos\n",
        "    </td>\n",
        "    <td>!!! NB. DO NOT USE CROSS-VALIDATION WITH THIS DATASET !!! <br>\n",
        "        Just train and test only once with the above training and test sets. <br><br>\n",
        "        ¿Hacer de cada spectral band una instancia de la clase? <br>\n",
        "        O ¿Puedo mantenerlo como una sola y hacer un cuadrado? <br><br>\n",
        "        Si dejo la info en una sola línea, ¿quito el Flatten? <br><br>\n",
        "        Model shape warning <br><br>\n",
        "        Model.summary Param # <br><br>\n",
        "        Model.fit después de compilar vs inicialmente <br><br>\n",
        "        Hiperparams <br><br>\n",
        "        conv2d? <br><br>\n",
        "        epochs\n",
        "    </td>\n",
        "  </tr>\n",
        "</table>\n",
        "<br>"
      ],
      "metadata": {
        "id": "24CR9rRxmyFD"
      }
    },
    {
      "cell_type": "code",
      "execution_count": 216,
      "metadata": {
        "colab": {
          "base_uri": "https://localhost:8080/"
        },
        "id": "ARjB1h0yssSt",
        "outputId": "2b728e0b-c187-4219-8ded-30748e6292bd"
      },
      "outputs": [
        {
          "output_type": "stream",
          "name": "stdout",
          "text": [
            "Drive already mounted at /content/drive; to attempt to forcibly remount, call drive.mount(\"/content/drive\", force_remount=True).\n"
          ]
        }
      ],
      "source": [
        "# Conexión por google drive para obtener archivos de entrada\n",
        "from google.colab import drive\n",
        "drive.mount('/content/drive')"
      ]
    },
    {
      "cell_type": "code",
      "execution_count": 217,
      "metadata": {
        "colab": {
          "base_uri": "https://localhost:8080/"
        },
        "id": "wcPPs2Wl3Ldc",
        "outputId": "fe5fb1e2-d0a2-42b6-a980-b1c21b59db5a"
      },
      "outputs": [
        {
          "output_type": "stream",
          "name": "stdout",
          "text": [
            "/content/drive/MyDrive/Colab Notebooks/Recursos/A01423596/Satellite\n",
            "Index  sat.doc\tsat.trn  sat.tst\n"
          ]
        }
      ],
      "source": [
        "# Magic functions (interactúa con el servidor)\n",
        "%cd '/content/drive/MyDrive/Colab Notebooks/Recursos/A01423596/Satellite'\n",
        "!ls"
      ]
    },
    {
      "cell_type": "markdown",
      "metadata": {
        "id": "ieGlg4Wqr0eg"
      },
      "source": [
        "# Statlog\n",
        "\n",
        "### Initial Dataset\n",
        "🗃 [Landstat Satellite](https://archive.ics.uci.edu/dataset/146/statlog+landsat+satellite) (Climate & environment)\n",
        "\n",
        "- 4435 training instances 🦾 <br>\n",
        "- 2000 testing instances 📊 <br><br>\n",
        "\n",
        "### Task: Classification\n",
        "- 36 attributes (4 spectral bands x 9 pixels)\n",
        "- Numerical attributes (between 0 and 255)\n",
        "- 7 class labels (with no data for class 6)"
      ]
    },
    {
      "cell_type": "code",
      "execution_count": 218,
      "metadata": {
        "id": "kiGTGqYnzc4c"
      },
      "outputs": [],
      "source": [
        "class_names = ['red soil',                     # 1 → 0\n",
        "               'cotton crop',                  # 2 → 1\n",
        "               'grey soil',                    # 3 → 2\n",
        "               'damp grey soil',               # 4 → 3\n",
        "               'soil with vegetation stubble', # 5 → 4\n",
        "               #'mixture class',               # 6 (NO DATA)\n",
        "               'very damp grey soil']          # 7 → 5"
      ]
    },
    {
      "cell_type": "code",
      "source": [
        "print(\"🔍 DATASET PREVIEW\\n  - 36 numbers for the pixels\\n  - One for the class label\\n\")\n",
        "\n",
        "with open(\"/content/drive/MyDrive/Colab Notebooks/Recursos/A01423596/Satellite/sat.trn\", 'r') as train_file:\n",
        "  info = train_file.readline().strip('\\n').split(\" \")\n",
        "\n",
        "  print(len(info),\"elems per line of info\\n\")\n",
        "\n",
        "  print(info[:-1])\n",
        "  print(info[-1])"
      ],
      "metadata": {
        "colab": {
          "base_uri": "https://localhost:8080/"
        },
        "id": "f7kXrN3drwJ0",
        "outputId": "480d44b2-c6aa-4c22-f25d-8e093adb360d"
      },
      "execution_count": 220,
      "outputs": [
        {
          "output_type": "stream",
          "name": "stdout",
          "text": [
            "🔍 DATASET PREVIEW\n",
            "  - 36 numbers for the pixels\n",
            "  - One for the class label\n",
            "\n",
            "37 elems per line of info\n",
            "\n",
            "['92', '115', '120', '94', '84', '102', '106', '79', '84', '102', '102', '83', '101', '126', '133', '103', '92', '112', '118', '85', '84', '103', '104', '81', '102', '126', '134', '104', '88', '121', '128', '100', '84', '107', '113', '87']\n",
            "3\n"
          ]
        }
      ]
    },
    {
      "cell_type": "markdown",
      "source": [
        "### Feature scaling and preprocessing\n",
        "1. Separate class label from pixels info\n",
        "2. Class numbers will go from 0 to 5 to match `class_names` index\n",
        "3. Remove unused class\n",
        "4. Pixels will go from 0 to 1"
      ],
      "metadata": {
        "id": "yQqr5IehwaRw"
      }
    },
    {
      "cell_type": "code",
      "source": [
        "import numpy as np\n",
        "\n",
        "def obtain_data(filename):\n",
        "  img_arr = []\n",
        "  label_arr = []\n",
        "\n",
        "  with open(filename, 'r') as data_file:\n",
        "    for line in data_file:\n",
        "      info = line.split(\" \")\n",
        "\n",
        "      # Last number is class label\n",
        "      label_arr.append(int(info[-1]) - 1)\n",
        "\n",
        "      # Remove extra class\n",
        "      if label_arr[-1] == 6:\n",
        "        label_arr[-1] = 5\n",
        "\n",
        "      # Construct image\n",
        "      pixels = []\n",
        "      for pixel in info[:-1]:\n",
        "        pixels.append((int(pixel) / 255.0))\n",
        "\n",
        "      # 4 arrays (one per spectral band)\n",
        "      img_arr.append(np.array_split(np.array(pixels), 4))\n",
        "\n",
        "      # 6 arrays (for a square image)\n",
        "      #img_arr.append(np.array_split(np.array(pixels), 6)) # PREGUNTA\n",
        "\n",
        "      #img_arr.append(pixels) # PREGUNTA\n",
        "\n",
        "  img_arr = np.array(img_arr)\n",
        "  label_arr = np.array(label_arr).astype(np.uint8)\n",
        "\n",
        "  print(img_arr[0],\"\\n\")\n",
        "  print(label_arr)\n",
        "\n",
        "  return(img_arr, label_arr)"
      ],
      "metadata": {
        "id": "amNzJKCOyKDV"
      },
      "execution_count": 221,
      "outputs": []
    },
    {
      "cell_type": "code",
      "source": [
        "print(\"🦾 OBTAINING TRAIN INFO...\\n\")\n",
        "train_images, train_labels = obtain_data(\"/content/drive/MyDrive/Colab Notebooks/Recursos/A01423596/Satellite/sat.trn\")\n",
        "\n",
        "print(\"\\n📊 OBTAINING TEST INFO...\\n\")\n",
        "test_images, test_labels = obtain_data(\"/content/drive/MyDrive/Colab Notebooks/Recursos/A01423596/Satellite/sat.tst\")"
      ],
      "metadata": {
        "colab": {
          "base_uri": "https://localhost:8080/"
        },
        "id": "iw8yU7kzuTHs",
        "outputId": "2583911e-5a8d-44fa-a678-c13a45aba609"
      },
      "execution_count": 222,
      "outputs": [
        {
          "output_type": "stream",
          "name": "stdout",
          "text": [
            "🦾 OBTAINING TRAIN INFO...\n",
            "\n",
            "[[0.36078431 0.45098039 0.47058824 0.36862745 0.32941176 0.4\n",
            "  0.41568627 0.30980392 0.32941176]\n",
            " [0.4        0.4        0.3254902  0.39607843 0.49411765 0.52156863\n",
            "  0.40392157 0.36078431 0.43921569]\n",
            " [0.4627451  0.33333333 0.32941176 0.40392157 0.40784314 0.31764706\n",
            "  0.4        0.49411765 0.5254902 ]\n",
            " [0.40784314 0.34509804 0.4745098  0.50196078 0.39215686 0.32941176\n",
            "  0.41960784 0.44313725 0.34117647]] \n",
            "\n",
            "[2 2 2 ... 3 3 3]\n",
            "\n",
            "📊 OBTAINING TEST INFO...\n",
            "\n",
            "[[0.31372549 0.4        0.4        0.30980392 0.29803922 0.4\n",
            "  0.4        0.30980392 0.29803922]\n",
            " [0.4        0.41568627 0.3254902  0.29803922 0.38823529 0.42352941\n",
            "  0.33333333 0.29803922 0.40392157]\n",
            " [0.4627451  0.34509804 0.31372549 0.41960784 0.4627451  0.34509804\n",
            "  0.30980392 0.41960784 0.42745098]\n",
            " [0.34117647 0.30980392 0.41960784 0.42745098 0.34117647 0.30980392\n",
            "  0.41960784 0.44313725 0.34117647]] \n",
            "\n",
            "[2 2 3 ... 4 4 4]\n"
          ]
        }
      ]
    },
    {
      "cell_type": "code",
      "execution_count": 223,
      "metadata": {
        "colab": {
          "base_uri": "https://localhost:8080/",
          "height": 821
        },
        "id": "RGVPJ5H7F9LB",
        "outputId": "f51403dc-bb64-44d6-9415-ca05a43e176f"
      },
      "outputs": [
        {
          "output_type": "display_data",
          "data": {
            "text/plain": [
              "<Figure size 200x200 with 1 Axes>"
            ],
            "image/png": "[encoded data removed]"
          },
          "metadata": {}
        },
        {
          "output_type": "display_data",
          "data": {
            "text/plain": [
              "<Figure size 200x200 with 1 Axes>"
            ],
            "image/png": "[encoded data removed]"
          },
          "metadata": {}
        },
        {
          "output_type": "display_data",
          "data": {
            "text/plain": [
              "<Figure size 200x200 with 1 Axes>"
            ],
            "image/png": "[encoded data removed]"
          },
          "metadata": {}
        },
        {
          "output_type": "display_data",
          "data": {
            "text/plain": [
              "<Figure size 200x200 with 1 Axes>"
            ],
            "image/png": "[encoded data removed]"
          },
          "metadata": {}
        },
        {
          "output_type": "display_data",
          "data": {
            "text/plain": [
              "<Figure size 200x200 with 1 Axes>"
            ],
            "image/png": "[encoded data removed]"
          },
          "metadata": {}
        },
        {
          "output_type": "display_data",
          "data": {
            "text/plain": [
              "<Figure size 200x200 with 1 Axes>"
            ],
            "image/png": "[encoded data removed]"
          },
          "metadata": {}
        }
      ],
      "source": [
        "import matplotlib.pyplot as plt\n",
        "\n",
        "examples = 6\n",
        "types = set()\n",
        "\n",
        "# 🔍 CLASS EXAMPLE PREVIEW\n",
        "for i in range(len(train_labels)):\n",
        "  if not examples:\n",
        "    break\n",
        "\n",
        "  if train_labels[i] not in types:\n",
        "    plt.figure(figsize=(2,2))\n",
        "    plt.imshow(train_images[i])\n",
        "\n",
        "    #plt.colorbar()\n",
        "    plt.title(f'{class_names[train_labels[i]]} ({train_labels[i]})')\n",
        "\n",
        "    plt.show()\n",
        "\n",
        "    types.add(train_labels[i])\n",
        "    examples = examples - 1"
      ]
    },
    {
      "cell_type": "code",
      "execution_count": 226,
      "metadata": {
        "colab": {
          "base_uri": "https://localhost:8080/",
          "height": 225
        },
        "id": "4roCbzvxPGwd",
        "outputId": "1f9731b0-d497-4c72-fb50-c0c123c48eb9"
      },
      "outputs": [
        {
          "output_type": "display_data",
          "data": {
            "text/plain": [
              "\u001b[1mModel: \"sequential_22\"\u001b[0m\n"
            ],
            "text/html": [
              "<pre style=\"white-space:pre;overflow-x:auto;line-height:normal;font-family:Menlo,'DejaVu Sans Mono',consolas,'Courier New',monospace\"><span style=\"font-weight: bold\">Model: \"sequential_22\"</span>\n",
              "</pre>\n"
            ]
          },
          "metadata": {}
        },
        {
          "output_type": "display_data",
          "data": {
            "text/plain": [
              "┏━━━━━━━━━━━━━━━━━━━━━━━━━━━━━━━━━━━━━━┳━━━━━━━━━━━━━━━━━━━━━━━━━━━━━┳━━━━━━━━━━━━━━━━━┓\n",
              "┃\u001b[1m \u001b[0m\u001b[1mLayer (type)                        \u001b[0m\u001b[1m \u001b[0m┃\u001b[1m \u001b[0m\u001b[1mOutput Shape               \u001b[0m\u001b[1m \u001b[0m┃\u001b[1m \u001b[0m\u001b[1m        Param #\u001b[0m\u001b[1m \u001b[0m┃\n",
              "┡━━━━━━━━━━━━━━━━━━━━━━━━━━━━━━━━━━━━━━╇━━━━━━━━━━━━━━━━━━━━━━━━━━━━━╇━━━━━━━━━━━━━━━━━┩\n",
              "│ flatten_13 (\u001b[38;5;33mFlatten\u001b[0m)                 │ (\u001b[38;5;45mNone\u001b[0m, \u001b[38;5;34m36\u001b[0m)                  │               \u001b[38;5;34m0\u001b[0m │\n",
              "├──────────────────────────────────────┼─────────────────────────────┼─────────────────┤\n",
              "│ dense_26 (\u001b[38;5;33mDense\u001b[0m)                     │ (\u001b[38;5;45mNone\u001b[0m, \u001b[38;5;34m128\u001b[0m)                 │           \u001b[38;5;34m4,736\u001b[0m │\n",
              "├──────────────────────────────────────┼─────────────────────────────┼─────────────────┤\n",
              "│ dense_27 (\u001b[38;5;33mDense\u001b[0m)                     │ (\u001b[38;5;45mNone\u001b[0m, \u001b[38;5;34m6\u001b[0m)                   │             \u001b[38;5;34m774\u001b[0m │\n",
              "└──────────────────────────────────────┴─────────────────────────────┴─────────────────┘\n"
            ],
            "text/html": [
              "<pre style=\"white-space:pre;overflow-x:auto;line-height:normal;font-family:Menlo,'DejaVu Sans Mono',consolas,'Courier New',monospace\">┏━━━━━━━━━━━━━━━━━━━━━━━━━━━━━━━━━━━━━━┳━━━━━━━━━━━━━━━━━━━━━━━━━━━━━┳━━━━━━━━━━━━━━━━━┓\n",
              "┃<span style=\"font-weight: bold\"> Layer (type)                         </span>┃<span style=\"font-weight: bold\"> Output Shape                </span>┃<span style=\"font-weight: bold\">         Param # </span>┃\n",
              "┡━━━━━━━━━━━━━━━━━━━━━━━━━━━━━━━━━━━━━━╇━━━━━━━━━━━━━━━━━━━━━━━━━━━━━╇━━━━━━━━━━━━━━━━━┩\n",
              "│ flatten_13 (<span style=\"color: #0087ff; text-decoration-color: #0087ff\">Flatten</span>)                 │ (<span style=\"color: #00d7ff; text-decoration-color: #00d7ff\">None</span>, <span style=\"color: #00af00; text-decoration-color: #00af00\">36</span>)                  │               <span style=\"color: #00af00; text-decoration-color: #00af00\">0</span> │\n",
              "├──────────────────────────────────────┼─────────────────────────────┼─────────────────┤\n",
              "│ dense_26 (<span style=\"color: #0087ff; text-decoration-color: #0087ff\">Dense</span>)                     │ (<span style=\"color: #00d7ff; text-decoration-color: #00d7ff\">None</span>, <span style=\"color: #00af00; text-decoration-color: #00af00\">128</span>)                 │           <span style=\"color: #00af00; text-decoration-color: #00af00\">4,736</span> │\n",
              "├──────────────────────────────────────┼─────────────────────────────┼─────────────────┤\n",
              "│ dense_27 (<span style=\"color: #0087ff; text-decoration-color: #0087ff\">Dense</span>)                     │ (<span style=\"color: #00d7ff; text-decoration-color: #00d7ff\">None</span>, <span style=\"color: #00af00; text-decoration-color: #00af00\">6</span>)                   │             <span style=\"color: #00af00; text-decoration-color: #00af00\">774</span> │\n",
              "└──────────────────────────────────────┴─────────────────────────────┴─────────────────┘\n",
              "</pre>\n"
            ]
          },
          "metadata": {}
        },
        {
          "output_type": "display_data",
          "data": {
            "text/plain": [
              "\u001b[1m Total params: \u001b[0m\u001b[38;5;34m5,510\u001b[0m (21.52 KB)\n"
            ],
            "text/html": [
              "<pre style=\"white-space:pre;overflow-x:auto;line-height:normal;font-family:Menlo,'DejaVu Sans Mono',consolas,'Courier New',monospace\"><span style=\"font-weight: bold\"> Total params: </span><span style=\"color: #00af00; text-decoration-color: #00af00\">5,510</span> (21.52 KB)\n",
              "</pre>\n"
            ]
          },
          "metadata": {}
        },
        {
          "output_type": "display_data",
          "data": {
            "text/plain": [
              "\u001b[1m Trainable params: \u001b[0m\u001b[38;5;34m5,510\u001b[0m (21.52 KB)\n"
            ],
            "text/html": [
              "<pre style=\"white-space:pre;overflow-x:auto;line-height:normal;font-family:Menlo,'DejaVu Sans Mono',consolas,'Courier New',monospace\"><span style=\"font-weight: bold\"> Trainable params: </span><span style=\"color: #00af00; text-decoration-color: #00af00\">5,510</span> (21.52 KB)\n",
              "</pre>\n"
            ]
          },
          "metadata": {}
        },
        {
          "output_type": "display_data",
          "data": {
            "text/plain": [
              "\u001b[1m Non-trainable params: \u001b[0m\u001b[38;5;34m0\u001b[0m (0.00 B)\n"
            ],
            "text/html": [
              "<pre style=\"white-space:pre;overflow-x:auto;line-height:normal;font-family:Menlo,'DejaVu Sans Mono',consolas,'Courier New',monospace\"><span style=\"font-weight: bold\"> Non-trainable params: </span><span style=\"color: #00af00; text-decoration-color: #00af00\">0</span> (0.00 B)\n",
              "</pre>\n"
            ]
          },
          "metadata": {}
        }
      ],
      "source": [
        "import tensorflow as tf\n",
        "\n",
        "# Helper libraries\n",
        "from tensorflow.keras.models import Sequential\n",
        "from tensorflow.keras.layers import Dense, Flatten\n",
        "\n",
        "# Simple model multilayer perceptron (neural network)\n",
        "model  =  Sequential([ # Conectado en orden\n",
        "                    Flatten(input_shape=train_images[0].shape), # Matrices se vuelven una sola línea\n",
        "                    Dense(128, activation='relu'), # Neuronas intermedias\n",
        "                    Dense(6, activation='softmax') # Neuronas de salida (# de clases)\n",
        "          ])\n",
        "\n",
        "model.summary()"
      ]
    },
    {
      "cell_type": "code",
      "execution_count": 227,
      "metadata": {
        "id": "hOkmZ46UQiKR",
        "colab": {
          "base_uri": "https://localhost:8080/"
        },
        "outputId": "9e0d93a0-fbff-4f93-929b-b4c55d14adca"
      },
      "outputs": [
        {
          "output_type": "stream",
          "name": "stdout",
          "text": [
            "Epoch 1/50\n",
            "\u001b[1m139/139\u001b[0m \u001b[32m━━━━━━━━━━━━━━━━━━━━\u001b[0m\u001b[37m\u001b[0m \u001b[1m1s\u001b[0m 3ms/step - accuracy: 0.3186 - loss: 1.6273\n",
            "Epoch 2/50\n",
            "\u001b[1m139/139\u001b[0m \u001b[32m━━━━━━━━━━━━━━━━━━━━\u001b[0m\u001b[37m\u001b[0m \u001b[1m1s\u001b[0m 3ms/step - accuracy: 0.5683 - loss: 1.3084\n",
            "Epoch 3/50\n",
            "\u001b[1m139/139\u001b[0m \u001b[32m━━━━━━━━━━━━━━━━━━━━\u001b[0m\u001b[37m\u001b[0m \u001b[1m1s\u001b[0m 3ms/step - accuracy: 0.7159 - loss: 1.0607\n",
            "Epoch 4/50\n",
            "\u001b[1m139/139\u001b[0m \u001b[32m━━━━━━━━━━━━━━━━━━━━\u001b[0m\u001b[37m\u001b[0m \u001b[1m1s\u001b[0m 3ms/step - accuracy: 0.7940 - loss: 0.8843\n",
            "Epoch 5/50\n",
            "\u001b[1m139/139\u001b[0m \u001b[32m━━━━━━━━━━━━━━━━━━━━\u001b[0m\u001b[37m\u001b[0m \u001b[1m1s\u001b[0m 3ms/step - accuracy: 0.7833 - loss: 0.7876\n",
            "Epoch 6/50\n",
            "\u001b[1m139/139\u001b[0m \u001b[32m━━━━━━━━━━━━━━━━━━━━\u001b[0m\u001b[37m\u001b[0m \u001b[1m0s\u001b[0m 2ms/step - accuracy: 0.8127 - loss: 0.6740\n",
            "Epoch 7/50\n",
            "\u001b[1m139/139\u001b[0m \u001b[32m━━━━━━━━━━━━━━━━━━━━\u001b[0m\u001b[37m\u001b[0m \u001b[1m0s\u001b[0m 2ms/step - accuracy: 0.8106 - loss: 0.6476\n",
            "Epoch 8/50\n",
            "\u001b[1m139/139\u001b[0m \u001b[32m━━━━━━━━━━━━━━━━━━━━\u001b[0m\u001b[37m\u001b[0m \u001b[1m0s\u001b[0m 2ms/step - accuracy: 0.8092 - loss: 0.6027\n",
            "Epoch 9/50\n",
            "\u001b[1m139/139\u001b[0m \u001b[32m━━━━━━━━━━━━━━━━━━━━\u001b[0m\u001b[37m\u001b[0m \u001b[1m0s\u001b[0m 2ms/step - accuracy: 0.8260 - loss: 0.5349\n",
            "Epoch 10/50\n",
            "\u001b[1m139/139\u001b[0m \u001b[32m━━━━━━━━━━━━━━━━━━━━\u001b[0m\u001b[37m\u001b[0m \u001b[1m0s\u001b[0m 2ms/step - accuracy: 0.8259 - loss: 0.5177\n",
            "Epoch 11/50\n",
            "\u001b[1m139/139\u001b[0m \u001b[32m━━━━━━━━━━━━━━━━━━━━\u001b[0m\u001b[37m\u001b[0m \u001b[1m0s\u001b[0m 2ms/step - accuracy: 0.8221 - loss: 0.5006\n",
            "Epoch 12/50\n",
            "\u001b[1m139/139\u001b[0m \u001b[32m━━━━━━━━━━━━━━━━━━━━\u001b[0m\u001b[37m\u001b[0m \u001b[1m0s\u001b[0m 2ms/step - accuracy: 0.8248 - loss: 0.4893\n",
            "Epoch 13/50\n",
            "\u001b[1m139/139\u001b[0m \u001b[32m━━━━━━━━━━━━━━━━━━━━\u001b[0m\u001b[37m\u001b[0m \u001b[1m0s\u001b[0m 2ms/step - accuracy: 0.8401 - loss: 0.4640\n",
            "Epoch 14/50\n",
            "\u001b[1m139/139\u001b[0m \u001b[32m━━━━━━━━━━━━━━━━━━━━\u001b[0m\u001b[37m\u001b[0m \u001b[1m0s\u001b[0m 2ms/step - accuracy: 0.8361 - loss: 0.4640\n",
            "Epoch 15/50\n",
            "\u001b[1m139/139\u001b[0m \u001b[32m━━━━━━━━━━━━━━━━━━━━\u001b[0m\u001b[37m\u001b[0m \u001b[1m0s\u001b[0m 2ms/step - accuracy: 0.8352 - loss: 0.4497\n",
            "Epoch 16/50\n",
            "\u001b[1m139/139\u001b[0m \u001b[32m━━━━━━━━━━━━━━━━━━━━\u001b[0m\u001b[37m\u001b[0m \u001b[1m0s\u001b[0m 2ms/step - accuracy: 0.8360 - loss: 0.4599\n",
            "Epoch 17/50\n",
            "\u001b[1m139/139\u001b[0m \u001b[32m━━━━━━━━━━━━━━━━━━━━\u001b[0m\u001b[37m\u001b[0m \u001b[1m0s\u001b[0m 2ms/step - accuracy: 0.8363 - loss: 0.4498\n",
            "Epoch 18/50\n",
            "\u001b[1m139/139\u001b[0m \u001b[32m━━━━━━━━━━━━━━━━━━━━\u001b[0m\u001b[37m\u001b[0m \u001b[1m1s\u001b[0m 2ms/step - accuracy: 0.8422 - loss: 0.4425\n",
            "Epoch 19/50\n",
            "\u001b[1m139/139\u001b[0m \u001b[32m━━━━━━━━━━━━━━━━━━━━\u001b[0m\u001b[37m\u001b[0m \u001b[1m0s\u001b[0m 2ms/step - accuracy: 0.8365 - loss: 0.4393\n",
            "Epoch 20/50\n",
            "\u001b[1m139/139\u001b[0m \u001b[32m━━━━━━━━━━━━━━━━━━━━\u001b[0m\u001b[37m\u001b[0m \u001b[1m1s\u001b[0m 2ms/step - accuracy: 0.8334 - loss: 0.4437\n",
            "Epoch 21/50\n",
            "\u001b[1m139/139\u001b[0m \u001b[32m━━━━━━━━━━━━━━━━━━━━\u001b[0m\u001b[37m\u001b[0m \u001b[1m0s\u001b[0m 2ms/step - accuracy: 0.8419 - loss: 0.4225\n",
            "Epoch 22/50\n",
            "\u001b[1m139/139\u001b[0m \u001b[32m━━━━━━━━━━━━━━━━━━━━\u001b[0m\u001b[37m\u001b[0m \u001b[1m1s\u001b[0m 2ms/step - accuracy: 0.8416 - loss: 0.4248\n",
            "Epoch 23/50\n",
            "\u001b[1m139/139\u001b[0m \u001b[32m━━━━━━━━━━━━━━━━━━━━\u001b[0m\u001b[37m\u001b[0m \u001b[1m0s\u001b[0m 2ms/step - accuracy: 0.8470 - loss: 0.4124\n",
            "Epoch 24/50\n",
            "\u001b[1m139/139\u001b[0m \u001b[32m━━━━━━━━━━━━━━━━━━━━\u001b[0m\u001b[37m\u001b[0m \u001b[1m1s\u001b[0m 2ms/step - accuracy: 0.8403 - loss: 0.4114\n",
            "Epoch 25/50\n",
            "\u001b[1m139/139\u001b[0m \u001b[32m━━━━━━━━━━━━━━━━━━━━\u001b[0m\u001b[37m\u001b[0m \u001b[1m0s\u001b[0m 2ms/step - accuracy: 0.8358 - loss: 0.4246\n",
            "Epoch 26/50\n",
            "\u001b[1m139/139\u001b[0m \u001b[32m━━━━━━━━━━━━━━━━━━━━\u001b[0m\u001b[37m\u001b[0m \u001b[1m0s\u001b[0m 2ms/step - accuracy: 0.8388 - loss: 0.4337\n",
            "Epoch 27/50\n",
            "\u001b[1m139/139\u001b[0m \u001b[32m━━━━━━━━━━━━━━━━━━━━\u001b[0m\u001b[37m\u001b[0m \u001b[1m0s\u001b[0m 2ms/step - accuracy: 0.8380 - loss: 0.4255\n",
            "Epoch 28/50\n",
            "\u001b[1m139/139\u001b[0m \u001b[32m━━━━━━━━━━━━━━━━━━━━\u001b[0m\u001b[37m\u001b[0m \u001b[1m1s\u001b[0m 2ms/step - accuracy: 0.8426 - loss: 0.4136\n",
            "Epoch 29/50\n",
            "\u001b[1m139/139\u001b[0m \u001b[32m━━━━━━━━━━━━━━━━━━━━\u001b[0m\u001b[37m\u001b[0m \u001b[1m0s\u001b[0m 2ms/step - accuracy: 0.8393 - loss: 0.4151\n",
            "Epoch 30/50\n",
            "\u001b[1m139/139\u001b[0m \u001b[32m━━━━━━━━━━━━━━━━━━━━\u001b[0m\u001b[37m\u001b[0m \u001b[1m0s\u001b[0m 2ms/step - accuracy: 0.8353 - loss: 0.4100\n",
            "Epoch 31/50\n",
            "\u001b[1m139/139\u001b[0m \u001b[32m━━━━━━━━━━━━━━━━━━━━\u001b[0m\u001b[37m\u001b[0m \u001b[1m0s\u001b[0m 2ms/step - accuracy: 0.8469 - loss: 0.4070\n",
            "Epoch 32/50\n",
            "\u001b[1m139/139\u001b[0m \u001b[32m━━━━━━━━━━━━━━━━━━━━\u001b[0m\u001b[37m\u001b[0m \u001b[1m0s\u001b[0m 3ms/step - accuracy: 0.8370 - loss: 0.4141\n",
            "Epoch 33/50\n",
            "\u001b[1m139/139\u001b[0m \u001b[32m━━━━━━━━━━━━━━━━━━━━\u001b[0m\u001b[37m\u001b[0m \u001b[1m0s\u001b[0m 3ms/step - accuracy: 0.8393 - loss: 0.4014\n",
            "Epoch 34/50\n",
            "\u001b[1m139/139\u001b[0m \u001b[32m━━━━━━━━━━━━━━━━━━━━\u001b[0m\u001b[37m\u001b[0m \u001b[1m0s\u001b[0m 3ms/step - accuracy: 0.8380 - loss: 0.3997\n",
            "Epoch 35/50\n",
            "\u001b[1m139/139\u001b[0m \u001b[32m━━━━━━━━━━━━━━━━━━━━\u001b[0m\u001b[37m\u001b[0m \u001b[1m0s\u001b[0m 3ms/step - accuracy: 0.8468 - loss: 0.3946\n",
            "Epoch 36/50\n",
            "\u001b[1m139/139\u001b[0m \u001b[32m━━━━━━━━━━━━━━━━━━━━\u001b[0m\u001b[37m\u001b[0m \u001b[1m1s\u001b[0m 3ms/step - accuracy: 0.8463 - loss: 0.4000\n",
            "Epoch 37/50\n",
            "\u001b[1m139/139\u001b[0m \u001b[32m━━━━━━━━━━━━━━━━━━━━\u001b[0m\u001b[37m\u001b[0m \u001b[1m0s\u001b[0m 3ms/step - accuracy: 0.8393 - loss: 0.4092\n",
            "Epoch 38/50\n",
            "\u001b[1m139/139\u001b[0m \u001b[32m━━━━━━━━━━━━━━━━━━━━\u001b[0m\u001b[37m\u001b[0m \u001b[1m1s\u001b[0m 4ms/step - accuracy: 0.8580 - loss: 0.3776\n",
            "Epoch 39/50\n",
            "\u001b[1m139/139\u001b[0m \u001b[32m━━━━━━━━━━━━━━━━━━━━\u001b[0m\u001b[37m\u001b[0m \u001b[1m0s\u001b[0m 3ms/step - accuracy: 0.8508 - loss: 0.3822\n",
            "Epoch 40/50\n",
            "\u001b[1m139/139\u001b[0m \u001b[32m━━━━━━━━━━━━━━━━━━━━\u001b[0m\u001b[37m\u001b[0m \u001b[1m1s\u001b[0m 2ms/step - accuracy: 0.8540 - loss: 0.3830\n",
            "Epoch 41/50\n",
            "\u001b[1m139/139\u001b[0m \u001b[32m━━━━━━━━━━━━━━━━━━━━\u001b[0m\u001b[37m\u001b[0m \u001b[1m0s\u001b[0m 2ms/step - accuracy: 0.8444 - loss: 0.3792\n",
            "Epoch 42/50\n",
            "\u001b[1m139/139\u001b[0m \u001b[32m━━━━━━━━━━━━━━━━━━━━\u001b[0m\u001b[37m\u001b[0m \u001b[1m0s\u001b[0m 2ms/step - accuracy: 0.8394 - loss: 0.3989\n",
            "Epoch 43/50\n",
            "\u001b[1m139/139\u001b[0m \u001b[32m━━━━━━━━━━━━━━━━━━━━\u001b[0m\u001b[37m\u001b[0m \u001b[1m0s\u001b[0m 2ms/step - accuracy: 0.8525 - loss: 0.3787\n",
            "Epoch 44/50\n",
            "\u001b[1m139/139\u001b[0m \u001b[32m━━━━━━━━━━━━━━━━━━━━\u001b[0m\u001b[37m\u001b[0m \u001b[1m1s\u001b[0m 2ms/step - accuracy: 0.8558 - loss: 0.3674\n",
            "Epoch 45/50\n",
            "\u001b[1m139/139\u001b[0m \u001b[32m━━━━━━━━━━━━━━━━━━━━\u001b[0m\u001b[37m\u001b[0m \u001b[1m0s\u001b[0m 2ms/step - accuracy: 0.8515 - loss: 0.3724\n",
            "Epoch 46/50\n",
            "\u001b[1m139/139\u001b[0m \u001b[32m━━━━━━━━━━━━━━━━━━━━\u001b[0m\u001b[37m\u001b[0m \u001b[1m1s\u001b[0m 2ms/step - accuracy: 0.8465 - loss: 0.4007\n",
            "Epoch 47/50\n",
            "\u001b[1m139/139\u001b[0m \u001b[32m━━━━━━━━━━━━━━━━━━━━\u001b[0m\u001b[37m\u001b[0m \u001b[1m0s\u001b[0m 2ms/step - accuracy: 0.8483 - loss: 0.3883\n",
            "Epoch 48/50\n",
            "\u001b[1m139/139\u001b[0m \u001b[32m━━━━━━━━━━━━━━━━━━━━\u001b[0m\u001b[37m\u001b[0m \u001b[1m1s\u001b[0m 2ms/step - accuracy: 0.8587 - loss: 0.3624\n",
            "Epoch 49/50\n",
            "\u001b[1m139/139\u001b[0m \u001b[32m━━━━━━━━━━━━━━━━━━━━\u001b[0m\u001b[37m\u001b[0m \u001b[1m0s\u001b[0m 2ms/step - accuracy: 0.8450 - loss: 0.3945\n",
            "Epoch 50/50\n",
            "\u001b[1m139/139\u001b[0m \u001b[32m━━━━━━━━━━━━━━━━━━━━\u001b[0m\u001b[37m\u001b[0m \u001b[1m1s\u001b[0m 2ms/step - accuracy: 0.8591 - loss: 0.3772\n"
          ]
        }
      ],
      "source": [
        "# Compile model with an optimiser, loss function and metric\n",
        "model.compile(optimizer=\"adam\", # Forma de gradiente descendiente\n",
        "              loss=\"sparse_categorical_crossentropy\", # Presentación del error\n",
        "              metrics =['accuracy']) # Evaluación del comportamiento\n",
        "\n",
        "# Entrena con datos, respuestas y épocas\n",
        "history = model.fit(train_images, train_labels, epochs = 50)"
      ]
    },
    {
      "cell_type": "code",
      "source": [
        "import pandas as pd\n",
        "\n",
        "# Load history into dataframe to analyze learning performance\n",
        "df = pd.DataFrame(history.history)\n",
        "\n",
        "fig, (ax1, ax2) = plt.subplots(1, 2, figsize=(8, 3))\n",
        "fig.suptitle('Model Performance')\n",
        "\n",
        "acc_vs_epochs = df.plot(y=\"accuracy\", title=\"Accuracy vs Epochs\", legend=True, ax=ax1)\n",
        "acc_vs_epochs.set(xlabel=\"Epochs\", ylabel=\"Accuracy\")\n",
        "\n",
        "loss_vs_epochs = df.plot(y=\"loss\", title = \"Loss vs Epochs\",legend=True, ax=ax2)\n",
        "loss_vs_epochs.set(xlabel=\"Epochs\", ylabel=\"Loss\")\n",
        "\n",
        "plt.tight_layout()"
      ],
      "metadata": {
        "colab": {
          "base_uri": "https://localhost:8080/",
          "height": 316
        },
        "id": "siL4XEAyDBiZ",
        "outputId": "f253a41c-8d8e-4c70-89fe-96d79fc9fc01"
      },
      "execution_count": 228,
      "outputs": [
        {
          "output_type": "display_data",
          "data": {
            "text/plain": [
              "<Figure size 800x300 with 2 Axes>"
            ],
            "image/png": "[encoded data removed]"
          },
          "metadata": {}
        }
      ]
    },
    {
      "cell_type": "code",
      "source": [
        "# Evaluate the model\n",
        "test_loss, test_acc = model.evaluate(test_images, test_labels)\n",
        "\n",
        "print('\\nTest accuracy:', test_acc) # Overfitting: gap between traing acc and test acc"
      ],
      "metadata": {
        "id": "1pqFZlpkW3tO",
        "colab": {
          "base_uri": "https://localhost:8080/"
        },
        "outputId": "5029cc20-a5c1-447e-fb6d-5e3f37d5b755"
      },
      "execution_count": 229,
      "outputs": [
        {
          "output_type": "stream",
          "name": "stdout",
          "text": [
            "\u001b[1m63/63\u001b[0m \u001b[32m━━━━━━━━━━━━━━━━━━━━\u001b[0m\u001b[37m\u001b[0m \u001b[1m0s\u001b[0m 2ms/step - accuracy: 0.8301 - loss: 0.4145\n",
            "\n",
            "Test accuracy: 0.8379999995231628\n"
          ]
        }
      ]
    },
    {
      "cell_type": "code",
      "source": [
        "# Make predictions\n",
        "probability_model = tf.keras.Sequential([model,\n",
        "                                         tf.keras.layers.Softmax()]) # Model linear outputs are transformed into probabilities\n",
        "\n",
        "predictions = probability_model.predict(test_images)\n",
        "\n",
        "print(\"\\n1st prediction\\n\", predictions[0])\n",
        "print(\"\\nHighest confidence value:\", np.argmax(predictions[0]))"
      ],
      "metadata": {
        "id": "-DNnocRsnYAB",
        "colab": {
          "base_uri": "https://localhost:8080/"
        },
        "outputId": "93c0b138-7c28-47ca-8ece-ba95fca021d2"
      },
      "execution_count": 230,
      "outputs": [
        {
          "output_type": "stream",
          "name": "stdout",
          "text": [
            "\u001b[1m63/63\u001b[0m \u001b[32m━━━━━━━━━━━━━━━━━━━━\u001b[0m\u001b[37m\u001b[0m \u001b[1m0s\u001b[0m 2ms/step\n",
            "\n",
            "1st prediction\n",
            " [0.16903144 0.13640006 0.2715424  0.15005215 0.13644244 0.13653146]\n",
            "\n",
            "Highest confidence value: 2\n"
          ]
        }
      ]
    },
    {
      "cell_type": "code",
      "source": [
        "# Verify predictions\n",
        "def plot_comparison(idx):\n",
        "  predicted_label = np.argmax(predictions[idx])\n",
        "\n",
        "  fig, (ax1, ax2) = plt.subplots(1, 2, figsize=(6, 2))\n",
        "  fig.suptitle(f\"Prediction evaluation (img {idx})\")\n",
        "\n",
        "  plt.subplot(1,2,1)\n",
        "  plt.imshow(test_images[idx])\n",
        "\n",
        "  if predicted_label == test_labels[idx]:\n",
        "    color = 'green'\n",
        "  else:\n",
        "    color = 'red'\n",
        "\n",
        "  plt.xlabel(f\"{class_names[predicted_label]} {int(100*np.max(predictions))}% ({class_names[test_labels[idx]]})\", color=color)\n",
        "\n",
        "  plt.subplot(1,2,2)\n",
        "  plt.xticks(range(len(class_names)))\n",
        "  plt.yticks([])\n",
        "\n",
        "  prediction_plt = plt.bar(range(len(class_names)), predictions[idx], color=\"#777777\")\n",
        "  plt.ylim([0, 1])\n",
        "\n",
        "  prediction_plt[predicted_label].set_color('red')\n",
        "  prediction_plt[test_labels[idx]].set_color('green')\n",
        "\n",
        "plot_comparison(1)\n",
        "plot_comparison(2)"
      ],
      "metadata": {
        "colab": {
          "base_uri": "https://localhost:8080/",
          "height": 451
        },
        "id": "qlR1SUxjKewY",
        "outputId": "d45d72b3-91db-490f-805b-843bc9029554"
      },
      "execution_count": 231,
      "outputs": [
        {
          "output_type": "display_data",
          "data": {
            "text/plain": [
              "<Figure size 600x200 with 2 Axes>"
            ],
            "image/png": "[encoded data removed]"
          },
          "metadata": {}
        },
        {
          "output_type": "display_data",
          "data": {
            "text/plain": [
              "<Figure size 600x200 with 2 Axes>"
            ],
            "image/png": "[encoded data removed]"
          },
          "metadata": {}
        }
      ]
    },
    {
      "cell_type": "code",
      "source": [
        "from tabulate import tabulate\n",
        "\n",
        "# Confusion matrix\n",
        "count_predictions = []\n",
        "\n",
        "for i in range(len(class_names)):\n",
        "  count_predictions.append([0 for i in range(len(class_names) + 2)])\n",
        "  count_predictions[i][0] = i\n",
        "\n",
        "for i in range(len(test_labels)):\n",
        "  count_predictions[test_labels[i]][np.argmax(predictions[i]) + 1] += 1\n",
        "  count_predictions[test_labels[i]][7] += 1\n",
        "\n",
        "print(tabulate(count_predictions, headers=['↓ True vs Predicted →', '0', '1', '2', '3', '4', '5', '↓ Total ↓']))"
      ],
      "metadata": {
        "colab": {
          "base_uri": "https://localhost:8080/"
        },
        "id": "EtHWqCdVWDqR",
        "outputId": "0f184d5b-ce71-489f-fc7f-3610215035d3"
      },
      "execution_count": 232,
      "outputs": [
        {
          "output_type": "stream",
          "name": "stdout",
          "text": [
            "  ↓ True vs Predicted →    0    1    2    3    4    5    ↓ Total ↓\n",
            "-----------------------  ---  ---  ---  ---  ---  ---  -----------\n",
            "                      0  458    0    2    0    1    0          461\n",
            "                      1    0  209    0    1   14    0          224\n",
            "                      2    2    0  387    4    2    2          397\n",
            "                      3    1    0   57   87   11   55          211\n",
            "                      4   25   14    0    7  164   27          237\n",
            "                      5    0    0   15   64   20  371          470\n"
          ]
        }
      ]
    },
    {
      "cell_type": "markdown",
      "source": [
        "1er avance: 6 de abril del 2025"
      ],
      "metadata": {
        "id": "Ly2wWqhmKgPy"
      }
    }
  ],
  "metadata": {
    "colab": {
      "provenance": []
    },
    "kernelspec": {
      "display_name": "Python 3",
      "name": "python3"
    },
    "language_info": {
      "name": "python"
    }
  },
  "nbformat": 4,
  "nbformat_minor": 0
}