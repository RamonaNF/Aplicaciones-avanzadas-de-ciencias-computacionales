{
  "cells": [
    {
      "cell_type": "markdown",
      "metadata": {
        "id": "3cf_1MpmEzSd"
      },
      "source": [
        "# Desarrollo de aplicaciones avanzadas de ciencias computacionales\n",
        "\n",
        "#### TC3002B.201: IA\n",
        "Ramona Najera, A01423596\n"
      ]
    },
    {
      "cell_type": "markdown",
      "source": [
        "<br>\n",
        "<table>\n",
        "  <tr>\n",
        "    <th>Avance 1</th>\n",
        "    <th>Avance 2</th>\n",
        "  </tr>\n",
        "  <tr>\n",
        "    <td>- Obtener, generar, aumentar dataset <br><br>\n",
        "        - Separación training y test <br><br>\n",
        "        - Técnicas de escalamiento <br><br>\n",
        "        - Preprocesado de datos\n",
        "    </td>\n",
        "    <td>- Estado del arte <br><br>\n",
        "        - Métricas <br><br>\n",
        "        - Interpretación de resultados\n",
        "    </td>\n",
        "  </tr>\n",
        "</table>\n",
        "<br>"
      ],
      "metadata": {
        "id": "24CR9rRxmyFD"
      }
    },
    {
      "cell_type": "code",
      "execution_count": 138,
      "metadata": {
        "colab": {
          "base_uri": "https://localhost:8080/"
        },
        "id": "ARjB1h0yssSt",
        "outputId": "325d6de0-8be8-4238-e358-d10383ced9c5"
      },
      "outputs": [
        {
          "output_type": "stream",
          "name": "stdout",
          "text": [
            "Drive already mounted at /content/drive; to attempt to forcibly remount, call drive.mount(\"/content/drive\", force_remount=True).\n"
          ]
        }
      ],
      "source": [
        "# Conexión por google drive para obtener archivos de entrada\n",
        "from google.colab import drive\n",
        "drive.mount('/content/drive')"
      ]
    },
    {
      "cell_type": "code",
      "execution_count": 139,
      "metadata": {
        "colab": {
          "base_uri": "https://localhost:8080/"
        },
        "id": "wcPPs2Wl3Ldc",
        "outputId": "59ae0692-dea0-48d9-db39-3f278296dbf4"
      },
      "outputs": [
        {
          "output_type": "stream",
          "name": "stdout",
          "text": [
            "/content/drive/MyDrive/Colab Notebooks/Recursos/A01423596/Satellite\n",
            "Index  sat.doc\tsat.trn  sat.tst\n"
          ]
        }
      ],
      "source": [
        "# Magic functions (interactúa con el servidor)\n",
        "%cd '/content/drive/MyDrive/Colab Notebooks/Recursos/A01423596/Satellite'\n",
        "!ls"
      ]
    },
    {
      "cell_type": "markdown",
      "metadata": {
        "id": "ieGlg4Wqr0eg"
      },
      "source": [
        "# Statlog project\n",
        "\n",
        "### Initial Dataset\n",
        "🗃 [Landstat Satellite](https://archive.ics.uci.edu/dataset/146/statlog+landsat+satellite) (Climate & environment)\n",
        "\n",
        "- 4435 training instances 🦾 <br>\n",
        "- 2000 testing instances 📊 <br><br>\n",
        "\n",
        "### Task: Classification\n",
        "- 36 attributes (4 spectral bands x 9 pixels)\n",
        "- Numerical attributes (between 0 and 255)\n",
        "- 7 class labels (with no data for class 6)"
      ]
    },
    {
      "cell_type": "code",
      "execution_count": 140,
      "metadata": {
        "id": "kiGTGqYnzc4c"
      },
      "outputs": [],
      "source": [
        "class_names = ['red soil',                     # 1 → 0\n",
        "               'cotton crop',                  # 2 → 1\n",
        "               'grey soil',                    # 3 → 2\n",
        "               'damp grey soil',               # 4 → 3\n",
        "               'soil with vegetation stubble', # 5 → 4\n",
        "               #'mixture class',               # 6 (NO DATA)\n",
        "               'very damp grey soil']          # 7 → 5"
      ]
    },
    {
      "cell_type": "code",
      "source": [
        "print(\"🔍 DATASET PREVIEW\\n  - 36 numbers for the pixels\\n  - One for the class label\\n\")\n",
        "\n",
        "with open(\"/content/drive/MyDrive/Colab Notebooks/Recursos/A01423596/Satellite/sat.trn\", 'r') as train_file:\n",
        "  info = train_file.readline().strip('\\n').split(\" \")\n",
        "\n",
        "  print(len(info),\"elems per line of info\\n\")\n",
        "\n",
        "  print(info[:-1])\n",
        "  print(info[-1])"
      ],
      "metadata": {
        "colab": {
          "base_uri": "https://localhost:8080/"
        },
        "id": "f7kXrN3drwJ0",
        "outputId": "be768ec6-c76d-461f-e77e-0378ac11971c"
      },
      "execution_count": 141,
      "outputs": [
        {
          "output_type": "stream",
          "name": "stdout",
          "text": [
            "🔍 DATASET PREVIEW\n",
            "  - 36 numbers for the pixels\n",
            "  - One for the class label\n",
            "\n",
            "37 elems per line of info\n",
            "\n",
            "['92', '115', '120', '94', '84', '102', '106', '79', '84', '102', '102', '83', '101', '126', '133', '103', '92', '112', '118', '85', '84', '103', '104', '81', '102', '126', '134', '104', '88', '121', '128', '100', '84', '107', '113', '87']\n",
            "3\n"
          ]
        }
      ]
    },
    {
      "cell_type": "markdown",
      "source": [
        "### Feature scaling and preprocessing\n",
        "1. Separate class label from pixels info\n",
        "2. Class numbers will go from 0 to 5 to match `class_names` index\n",
        "3. Remove unused class\n",
        "4. Pixels will go from 0 to 1"
      ],
      "metadata": {
        "id": "yQqr5IehwaRw"
      }
    },
    {
      "cell_type": "code",
      "source": [
        "import numpy as np\n",
        "\n",
        "def obtain_data(filename):\n",
        "  img_arr = []\n",
        "  label_arr = []\n",
        "\n",
        "  with open(filename, 'r') as data_file:\n",
        "    for line in data_file:\n",
        "      info = line.split(\" \")\n",
        "\n",
        "      # Last number is class label\n",
        "      label_arr.append(int(info[-1]) - 1)\n",
        "\n",
        "      # Remove extra class\n",
        "      if label_arr[-1] == 6:\n",
        "        label_arr[-1] = 5\n",
        "\n",
        "      # Construct image\n",
        "      pixels = []\n",
        "      for pixel in info[:-1]:\n",
        "        pixels.append((int(pixel) / 255.0))\n",
        "\n",
        "      # 4 arrays (one per spectral band)\n",
        "      img_arr.append(np.array_split(np.array(pixels), 4))\n",
        "\n",
        "  img_arr = np.array(img_arr)\n",
        "  label_arr = np.array(label_arr).astype(np.uint8)\n",
        "\n",
        "  print(img_arr[0],\"\\n\")\n",
        "  print(label_arr)\n",
        "\n",
        "  return(img_arr, label_arr)\n",
        "\n",
        "# >>> Obtain data\n",
        "print(\"🦾 OBTAINING TRAIN INFO...\\n\")\n",
        "train_images, train_labels = obtain_data(\"/content/drive/MyDrive/Colab Notebooks/Recursos/A01423596/Satellite/sat.trn\")\n",
        "\n",
        "print(\"\\n📊 OBTAINING TEST INFO...\\n\")\n",
        "test_images, test_labels = obtain_data(\"/content/drive/MyDrive/Colab Notebooks/Recursos/A01423596/Satellite/sat.tst\")"
      ],
      "metadata": {
        "id": "amNzJKCOyKDV",
        "colab": {
          "base_uri": "https://localhost:8080/"
        },
        "outputId": "57f1d84f-fc11-42d4-b517-c51007f38f62"
      },
      "execution_count": 142,
      "outputs": [
        {
          "output_type": "stream",
          "name": "stdout",
          "text": [
            "🦾 OBTAINING TRAIN INFO...\n",
            "\n",
            "[[0.36078431 0.45098039 0.47058824 0.36862745 0.32941176 0.4\n",
            "  0.41568627 0.30980392 0.32941176]\n",
            " [0.4        0.4        0.3254902  0.39607843 0.49411765 0.52156863\n",
            "  0.40392157 0.36078431 0.43921569]\n",
            " [0.4627451  0.33333333 0.32941176 0.40392157 0.40784314 0.31764706\n",
            "  0.4        0.49411765 0.5254902 ]\n",
            " [0.40784314 0.34509804 0.4745098  0.50196078 0.39215686 0.32941176\n",
            "  0.41960784 0.44313725 0.34117647]] \n",
            "\n",
            "[2 2 2 ... 3 3 3]\n",
            "\n",
            "📊 OBTAINING TEST INFO...\n",
            "\n",
            "[[0.31372549 0.4        0.4        0.30980392 0.29803922 0.4\n",
            "  0.4        0.30980392 0.29803922]\n",
            " [0.4        0.41568627 0.3254902  0.29803922 0.38823529 0.42352941\n",
            "  0.33333333 0.29803922 0.40392157]\n",
            " [0.4627451  0.34509804 0.31372549 0.41960784 0.4627451  0.34509804\n",
            "  0.30980392 0.41960784 0.42745098]\n",
            " [0.34117647 0.30980392 0.41960784 0.42745098 0.34117647 0.30980392\n",
            "  0.41960784 0.44313725 0.34117647]] \n",
            "\n",
            "[2 2 3 ... 4 4 4]\n"
          ]
        }
      ]
    },
    {
      "cell_type": "code",
      "execution_count": 143,
      "metadata": {
        "colab": {
          "base_uri": "https://localhost:8080/",
          "height": 257
        },
        "id": "4roCbzvxPGwd",
        "outputId": "2e073719-e836-43ca-880c-7be74ba29da6"
      },
      "outputs": [
        {
          "output_type": "display_data",
          "data": {
            "text/plain": [
              "\u001b[1mModel: \"sequential_29\"\u001b[0m\n"
            ],
            "text/html": [
              "<pre style=\"white-space:pre;overflow-x:auto;line-height:normal;font-family:Menlo,'DejaVu Sans Mono',consolas,'Courier New',monospace\"><span style=\"font-weight: bold\">Model: \"sequential_29\"</span>\n",
              "</pre>\n"
            ]
          },
          "metadata": {}
        },
        {
          "output_type": "display_data",
          "data": {
            "text/plain": [
              "┏━━━━━━━━━━━━━━━━━━━━━━━━━━━━━━━━━┳━━━━━━━━━━━━━━━━━━━━━━━━┳━━━━━━━━━━━━━━━┓\n",
              "┃\u001b[1m \u001b[0m\u001b[1mLayer (type)                   \u001b[0m\u001b[1m \u001b[0m┃\u001b[1m \u001b[0m\u001b[1mOutput Shape          \u001b[0m\u001b[1m \u001b[0m┃\u001b[1m \u001b[0m\u001b[1m      Param #\u001b[0m\u001b[1m \u001b[0m┃\n",
              "┡━━━━━━━━━━━━━━━━━━━━━━━━━━━━━━━━━╇━━━━━━━━━━━━━━━━━━━━━━━━╇━━━━━━━━━━━━━━━┩\n",
              "│ flatten_18 (\u001b[38;5;33mFlatten\u001b[0m)            │ (\u001b[38;5;45mNone\u001b[0m, \u001b[38;5;34m36\u001b[0m)             │             \u001b[38;5;34m0\u001b[0m │\n",
              "├─────────────────────────────────┼────────────────────────┼───────────────┤\n",
              "│ dense_54 (\u001b[38;5;33mDense\u001b[0m)                │ (\u001b[38;5;45mNone\u001b[0m, \u001b[38;5;34m128\u001b[0m)            │         \u001b[38;5;34m4,736\u001b[0m │\n",
              "├─────────────────────────────────┼────────────────────────┼───────────────┤\n",
              "│ dense_55 (\u001b[38;5;33mDense\u001b[0m)                │ (\u001b[38;5;45mNone\u001b[0m, \u001b[38;5;34m67\u001b[0m)             │         \u001b[38;5;34m8,643\u001b[0m │\n",
              "├─────────────────────────────────┼────────────────────────┼───────────────┤\n",
              "│ dense_56 (\u001b[38;5;33mDense\u001b[0m)                │ (\u001b[38;5;45mNone\u001b[0m, \u001b[38;5;34m6\u001b[0m)              │           \u001b[38;5;34m408\u001b[0m │\n",
              "└─────────────────────────────────┴────────────────────────┴───────────────┘\n"
            ],
            "text/html": [
              "<pre style=\"white-space:pre;overflow-x:auto;line-height:normal;font-family:Menlo,'DejaVu Sans Mono',consolas,'Courier New',monospace\">┏━━━━━━━━━━━━━━━━━━━━━━━━━━━━━━━━━┳━━━━━━━━━━━━━━━━━━━━━━━━┳━━━━━━━━━━━━━━━┓\n",
              "┃<span style=\"font-weight: bold\"> Layer (type)                    </span>┃<span style=\"font-weight: bold\"> Output Shape           </span>┃<span style=\"font-weight: bold\">       Param # </span>┃\n",
              "┡━━━━━━━━━━━━━━━━━━━━━━━━━━━━━━━━━╇━━━━━━━━━━━━━━━━━━━━━━━━╇━━━━━━━━━━━━━━━┩\n",
              "│ flatten_18 (<span style=\"color: #0087ff; text-decoration-color: #0087ff\">Flatten</span>)            │ (<span style=\"color: #00d7ff; text-decoration-color: #00d7ff\">None</span>, <span style=\"color: #00af00; text-decoration-color: #00af00\">36</span>)             │             <span style=\"color: #00af00; text-decoration-color: #00af00\">0</span> │\n",
              "├─────────────────────────────────┼────────────────────────┼───────────────┤\n",
              "│ dense_54 (<span style=\"color: #0087ff; text-decoration-color: #0087ff\">Dense</span>)                │ (<span style=\"color: #00d7ff; text-decoration-color: #00d7ff\">None</span>, <span style=\"color: #00af00; text-decoration-color: #00af00\">128</span>)            │         <span style=\"color: #00af00; text-decoration-color: #00af00\">4,736</span> │\n",
              "├─────────────────────────────────┼────────────────────────┼───────────────┤\n",
              "│ dense_55 (<span style=\"color: #0087ff; text-decoration-color: #0087ff\">Dense</span>)                │ (<span style=\"color: #00d7ff; text-decoration-color: #00d7ff\">None</span>, <span style=\"color: #00af00; text-decoration-color: #00af00\">67</span>)             │         <span style=\"color: #00af00; text-decoration-color: #00af00\">8,643</span> │\n",
              "├─────────────────────────────────┼────────────────────────┼───────────────┤\n",
              "│ dense_56 (<span style=\"color: #0087ff; text-decoration-color: #0087ff\">Dense</span>)                │ (<span style=\"color: #00d7ff; text-decoration-color: #00d7ff\">None</span>, <span style=\"color: #00af00; text-decoration-color: #00af00\">6</span>)              │           <span style=\"color: #00af00; text-decoration-color: #00af00\">408</span> │\n",
              "└─────────────────────────────────┴────────────────────────┴───────────────┘\n",
              "</pre>\n"
            ]
          },
          "metadata": {}
        },
        {
          "output_type": "display_data",
          "data": {
            "text/plain": [
              "\u001b[1m Total params: \u001b[0m\u001b[38;5;34m13,787\u001b[0m (53.86 KB)\n"
            ],
            "text/html": [
              "<pre style=\"white-space:pre;overflow-x:auto;line-height:normal;font-family:Menlo,'DejaVu Sans Mono',consolas,'Courier New',monospace\"><span style=\"font-weight: bold\"> Total params: </span><span style=\"color: #00af00; text-decoration-color: #00af00\">13,787</span> (53.86 KB)\n",
              "</pre>\n"
            ]
          },
          "metadata": {}
        },
        {
          "output_type": "display_data",
          "data": {
            "text/plain": [
              "\u001b[1m Trainable params: \u001b[0m\u001b[38;5;34m13,787\u001b[0m (53.86 KB)\n"
            ],
            "text/html": [
              "<pre style=\"white-space:pre;overflow-x:auto;line-height:normal;font-family:Menlo,'DejaVu Sans Mono',consolas,'Courier New',monospace\"><span style=\"font-weight: bold\"> Trainable params: </span><span style=\"color: #00af00; text-decoration-color: #00af00\">13,787</span> (53.86 KB)\n",
              "</pre>\n"
            ]
          },
          "metadata": {}
        },
        {
          "output_type": "display_data",
          "data": {
            "text/plain": [
              "\u001b[1m Non-trainable params: \u001b[0m\u001b[38;5;34m0\u001b[0m (0.00 B)\n"
            ],
            "text/html": [
              "<pre style=\"white-space:pre;overflow-x:auto;line-height:normal;font-family:Menlo,'DejaVu Sans Mono',consolas,'Courier New',monospace\"><span style=\"font-weight: bold\"> Non-trainable params: </span><span style=\"color: #00af00; text-decoration-color: #00af00\">0</span> (0.00 B)\n",
              "</pre>\n"
            ]
          },
          "metadata": {}
        }
      ],
      "source": [
        "import tensorflow as tf\n",
        "\n",
        "# Helper libraries\n",
        "from tensorflow.keras.models import Sequential\n",
        "from tensorflow.keras.layers import Dense, Flatten\n",
        "\n",
        "# Simple model multilayer perceptron (neural network)\n",
        "model  =  Sequential([ # Conectado en orden\n",
        "                    Flatten(input_shape=train_images[0].shape), # Matrices se vuelven una sola línea\n",
        "                    # Neuronas intermedias\n",
        "                    Dense(128, activation='relu'),\n",
        "                    Dense(67, activation='relu'),\n",
        "                    Dense(len(class_names), activation='softmax') # Neuronas de salida (# de clases)\n",
        "          ])\n",
        "\n",
        "model.summary()"
      ]
    },
    {
      "cell_type": "code",
      "execution_count": 144,
      "metadata": {
        "id": "hOkmZ46UQiKR",
        "colab": {
          "base_uri": "https://localhost:8080/"
        },
        "outputId": "6383af51-0a12-4afb-a9bd-cb618dc7031f"
      },
      "outputs": [
        {
          "output_type": "stream",
          "name": "stdout",
          "text": [
            "Epoch 1/50\n",
            "\u001b[1m139/139\u001b[0m \u001b[32m━━━━━━━━━━━━━━━━━━━━\u001b[0m\u001b[37m\u001b[0m \u001b[1m2s\u001b[0m 4ms/step - accuracy: 0.3530 - loss: 1.5923\n",
            "Epoch 2/50\n",
            "\u001b[1m139/139\u001b[0m \u001b[32m━━━━━━━━━━━━━━━━━━━━\u001b[0m\u001b[37m\u001b[0m \u001b[1m1s\u001b[0m 4ms/step - accuracy: 0.6148 - loss: 1.0007\n",
            "Epoch 3/50\n",
            "\u001b[1m139/139\u001b[0m \u001b[32m━━━━━━━━━━━━━━━━━━━━\u001b[0m\u001b[37m\u001b[0m \u001b[1m1s\u001b[0m 4ms/step - accuracy: 0.7591 - loss: 0.7702\n",
            "Epoch 4/50\n",
            "\u001b[1m139/139\u001b[0m \u001b[32m━━━━━━━━━━━━━━━━━━━━\u001b[0m\u001b[37m\u001b[0m \u001b[1m1s\u001b[0m 4ms/step - accuracy: 0.8069 - loss: 0.6190\n",
            "Epoch 5/50\n",
            "\u001b[1m139/139\u001b[0m \u001b[32m━━━━━━━━━━━━━━━━━━━━\u001b[0m\u001b[37m\u001b[0m \u001b[1m1s\u001b[0m 4ms/step - accuracy: 0.8308 - loss: 0.5185\n",
            "Epoch 6/50\n",
            "\u001b[1m139/139\u001b[0m \u001b[32m━━━━━━━━━━━━━━━━━━━━\u001b[0m\u001b[37m\u001b[0m \u001b[1m1s\u001b[0m 4ms/step - accuracy: 0.8281 - loss: 0.4992\n",
            "Epoch 7/50\n",
            "\u001b[1m139/139\u001b[0m \u001b[32m━━━━━━━━━━━━━━━━━━━━\u001b[0m\u001b[37m\u001b[0m \u001b[1m0s\u001b[0m 2ms/step - accuracy: 0.8274 - loss: 0.4688\n",
            "Epoch 8/50\n",
            "\u001b[1m139/139\u001b[0m \u001b[32m━━━━━━━━━━━━━━━━━━━━\u001b[0m\u001b[37m\u001b[0m \u001b[1m1s\u001b[0m 2ms/step - accuracy: 0.8247 - loss: 0.4677\n",
            "Epoch 9/50\n",
            "\u001b[1m139/139\u001b[0m \u001b[32m━━━━━━━━━━━━━━━━━━━━\u001b[0m\u001b[37m\u001b[0m \u001b[1m1s\u001b[0m 2ms/step - accuracy: 0.8285 - loss: 0.4540\n",
            "Epoch 10/50\n",
            "\u001b[1m139/139\u001b[0m \u001b[32m━━━━━━━━━━━━━━━━━━━━\u001b[0m\u001b[37m\u001b[0m \u001b[1m1s\u001b[0m 2ms/step - accuracy: 0.8331 - loss: 0.4281\n",
            "Epoch 11/50\n",
            "\u001b[1m139/139\u001b[0m \u001b[32m━━━━━━━━━━━━━━━━━━━━\u001b[0m\u001b[37m\u001b[0m \u001b[1m0s\u001b[0m 2ms/step - accuracy: 0.8336 - loss: 0.4371\n",
            "Epoch 12/50\n",
            "\u001b[1m139/139\u001b[0m \u001b[32m━━━━━━━━━━━━━━━━━━━━\u001b[0m\u001b[37m\u001b[0m \u001b[1m1s\u001b[0m 2ms/step - accuracy: 0.8345 - loss: 0.4494\n",
            "Epoch 13/50\n",
            "\u001b[1m139/139\u001b[0m \u001b[32m━━━━━━━━━━━━━━━━━━━━\u001b[0m\u001b[37m\u001b[0m \u001b[1m1s\u001b[0m 3ms/step - accuracy: 0.8349 - loss: 0.4441\n",
            "Epoch 14/50\n",
            "\u001b[1m139/139\u001b[0m \u001b[32m━━━━━━━━━━━━━━━━━━━━\u001b[0m\u001b[37m\u001b[0m \u001b[1m0s\u001b[0m 3ms/step - accuracy: 0.8346 - loss: 0.4380\n",
            "Epoch 15/50\n",
            "\u001b[1m139/139\u001b[0m \u001b[32m━━━━━━━━━━━━━━━━━━━━\u001b[0m\u001b[37m\u001b[0m \u001b[1m0s\u001b[0m 2ms/step - accuracy: 0.8458 - loss: 0.4166\n",
            "Epoch 16/50\n",
            "\u001b[1m139/139\u001b[0m \u001b[32m━━━━━━━━━━━━━━━━━━━━\u001b[0m\u001b[37m\u001b[0m \u001b[1m1s\u001b[0m 3ms/step - accuracy: 0.8283 - loss: 0.4416\n",
            "Epoch 17/50\n",
            "\u001b[1m139/139\u001b[0m \u001b[32m━━━━━━━━━━━━━━━━━━━━\u001b[0m\u001b[37m\u001b[0m \u001b[1m1s\u001b[0m 2ms/step - accuracy: 0.8470 - loss: 0.4117\n",
            "Epoch 18/50\n",
            "\u001b[1m139/139\u001b[0m \u001b[32m━━━━━━━━━━━━━━━━━━━━\u001b[0m\u001b[37m\u001b[0m \u001b[1m1s\u001b[0m 3ms/step - accuracy: 0.8376 - loss: 0.4259\n",
            "Epoch 19/50\n",
            "\u001b[1m139/139\u001b[0m \u001b[32m━━━━━━━━━━━━━━━━━━━━\u001b[0m\u001b[37m\u001b[0m \u001b[1m1s\u001b[0m 3ms/step - accuracy: 0.8217 - loss: 0.4535\n",
            "Epoch 20/50\n",
            "\u001b[1m139/139\u001b[0m \u001b[32m━━━━━━━━━━━━━━━━━━━━\u001b[0m\u001b[37m\u001b[0m \u001b[1m0s\u001b[0m 3ms/step - accuracy: 0.8379 - loss: 0.4178\n",
            "Epoch 21/50\n",
            "\u001b[1m139/139\u001b[0m \u001b[32m━━━━━━━━━━━━━━━━━━━━\u001b[0m\u001b[37m\u001b[0m \u001b[1m1s\u001b[0m 3ms/step - accuracy: 0.8437 - loss: 0.4276\n",
            "Epoch 22/50\n",
            "\u001b[1m139/139\u001b[0m \u001b[32m━━━━━━━━━━━━━━━━━━━━\u001b[0m\u001b[37m\u001b[0m \u001b[1m1s\u001b[0m 3ms/step - accuracy: 0.8365 - loss: 0.4219\n",
            "Epoch 23/50\n",
            "\u001b[1m139/139\u001b[0m \u001b[32m━━━━━━━━━━━━━━━━━━━━\u001b[0m\u001b[37m\u001b[0m \u001b[1m1s\u001b[0m 3ms/step - accuracy: 0.8338 - loss: 0.4242\n",
            "Epoch 24/50\n",
            "\u001b[1m139/139\u001b[0m \u001b[32m━━━━━━━━━━━━━━━━━━━━\u001b[0m\u001b[37m\u001b[0m \u001b[1m0s\u001b[0m 2ms/step - accuracy: 0.8409 - loss: 0.4065\n",
            "Epoch 25/50\n",
            "\u001b[1m139/139\u001b[0m \u001b[32m━━━━━━━━━━━━━━━━━━━━\u001b[0m\u001b[37m\u001b[0m \u001b[1m1s\u001b[0m 4ms/step - accuracy: 0.8363 - loss: 0.4269\n",
            "Epoch 26/50\n",
            "\u001b[1m139/139\u001b[0m \u001b[32m━━━━━━━━━━━━━━━━━━━━\u001b[0m\u001b[37m\u001b[0m \u001b[1m1s\u001b[0m 4ms/step - accuracy: 0.8524 - loss: 0.3742\n",
            "Epoch 27/50\n",
            "\u001b[1m139/139\u001b[0m \u001b[32m━━━━━━━━━━━━━━━━━━━━\u001b[0m\u001b[37m\u001b[0m \u001b[1m1s\u001b[0m 4ms/step - accuracy: 0.8475 - loss: 0.3987\n",
            "Epoch 28/50\n",
            "\u001b[1m139/139\u001b[0m \u001b[32m━━━━━━━━━━━━━━━━━━━━\u001b[0m\u001b[37m\u001b[0m \u001b[1m2s\u001b[0m 8ms/step - accuracy: 0.8433 - loss: 0.4024\n",
            "Epoch 29/50\n",
            "\u001b[1m139/139\u001b[0m \u001b[32m━━━━━━━━━━━━━━━━━━━━\u001b[0m\u001b[37m\u001b[0m \u001b[1m1s\u001b[0m 5ms/step - accuracy: 0.8453 - loss: 0.4061\n",
            "Epoch 30/50\n",
            "\u001b[1m139/139\u001b[0m \u001b[32m━━━━━━━━━━━━━━━━━━━━\u001b[0m\u001b[37m\u001b[0m \u001b[1m1s\u001b[0m 2ms/step - accuracy: 0.8454 - loss: 0.3966\n",
            "Epoch 31/50\n",
            "\u001b[1m139/139\u001b[0m \u001b[32m━━━━━━━━━━━━━━━━━━━━\u001b[0m\u001b[37m\u001b[0m \u001b[1m0s\u001b[0m 2ms/step - accuracy: 0.8515 - loss: 0.3894\n",
            "Epoch 32/50\n",
            "\u001b[1m139/139\u001b[0m \u001b[32m━━━━━━━━━━━━━━━━━━━━\u001b[0m\u001b[37m\u001b[0m \u001b[1m1s\u001b[0m 2ms/step - accuracy: 0.8371 - loss: 0.4149\n",
            "Epoch 33/50\n",
            "\u001b[1m139/139\u001b[0m \u001b[32m━━━━━━━━━━━━━━━━━━━━\u001b[0m\u001b[37m\u001b[0m \u001b[1m1s\u001b[0m 2ms/step - accuracy: 0.8441 - loss: 0.3853\n",
            "Epoch 34/50\n",
            "\u001b[1m139/139\u001b[0m \u001b[32m━━━━━━━━━━━━━━━━━━━━\u001b[0m\u001b[37m\u001b[0m \u001b[1m1s\u001b[0m 2ms/step - accuracy: 0.8536 - loss: 0.3864\n",
            "Epoch 35/50\n",
            "\u001b[1m139/139\u001b[0m \u001b[32m━━━━━━━━━━━━━━━━━━━━\u001b[0m\u001b[37m\u001b[0m \u001b[1m0s\u001b[0m 3ms/step - accuracy: 0.8492 - loss: 0.3917\n",
            "Epoch 36/50\n",
            "\u001b[1m139/139\u001b[0m \u001b[32m━━━━━━━━━━━━━━━━━━━━\u001b[0m\u001b[37m\u001b[0m \u001b[1m0s\u001b[0m 2ms/step - accuracy: 0.8364 - loss: 0.4013\n",
            "Epoch 37/50\n",
            "\u001b[1m139/139\u001b[0m \u001b[32m━━━━━━━━━━━━━━━━━━━━\u001b[0m\u001b[37m\u001b[0m \u001b[1m1s\u001b[0m 3ms/step - accuracy: 0.8611 - loss: 0.3641\n",
            "Epoch 38/50\n",
            "\u001b[1m139/139\u001b[0m \u001b[32m━━━━━━━━━━━━━━━━━━━━\u001b[0m\u001b[37m\u001b[0m \u001b[1m1s\u001b[0m 2ms/step - accuracy: 0.8451 - loss: 0.3744\n",
            "Epoch 39/50\n",
            "\u001b[1m139/139\u001b[0m \u001b[32m━━━━━━━━━━━━━━━━━━━━\u001b[0m\u001b[37m\u001b[0m \u001b[1m1s\u001b[0m 3ms/step - accuracy: 0.8538 - loss: 0.3642\n",
            "Epoch 40/50\n",
            "\u001b[1m139/139\u001b[0m \u001b[32m━━━━━━━━━━━━━━━━━━━━\u001b[0m\u001b[37m\u001b[0m \u001b[1m0s\u001b[0m 3ms/step - accuracy: 0.8508 - loss: 0.3691\n",
            "Epoch 41/50\n",
            "\u001b[1m139/139\u001b[0m \u001b[32m━━━━━━━━━━━━━━━━━━━━\u001b[0m\u001b[37m\u001b[0m \u001b[1m1s\u001b[0m 2ms/step - accuracy: 0.8594 - loss: 0.3560\n",
            "Epoch 42/50\n",
            "\u001b[1m139/139\u001b[0m \u001b[32m━━━━━━━━━━━━━━━━━━━━\u001b[0m\u001b[37m\u001b[0m \u001b[1m1s\u001b[0m 2ms/step - accuracy: 0.8547 - loss: 0.3657\n",
            "Epoch 43/50\n",
            "\u001b[1m139/139\u001b[0m \u001b[32m━━━━━━━━━━━━━━━━━━━━\u001b[0m\u001b[37m\u001b[0m \u001b[1m1s\u001b[0m 2ms/step - accuracy: 0.8495 - loss: 0.3814\n",
            "Epoch 44/50\n",
            "\u001b[1m139/139\u001b[0m \u001b[32m━━━━━━━━━━━━━━━━━━━━\u001b[0m\u001b[37m\u001b[0m \u001b[1m1s\u001b[0m 2ms/step - accuracy: 0.8577 - loss: 0.3498\n",
            "Epoch 45/50\n",
            "\u001b[1m139/139\u001b[0m \u001b[32m━━━━━━━━━━━━━━━━━━━━\u001b[0m\u001b[37m\u001b[0m \u001b[1m1s\u001b[0m 2ms/step - accuracy: 0.8583 - loss: 0.3523\n",
            "Epoch 46/50\n",
            "\u001b[1m139/139\u001b[0m \u001b[32m━━━━━━━━━━━━━━━━━━━━\u001b[0m\u001b[37m\u001b[0m \u001b[1m0s\u001b[0m 2ms/step - accuracy: 0.8590 - loss: 0.3604\n",
            "Epoch 47/50\n",
            "\u001b[1m139/139\u001b[0m \u001b[32m━━━━━━━━━━━━━━━━━━━━\u001b[0m\u001b[37m\u001b[0m \u001b[1m1s\u001b[0m 4ms/step - accuracy: 0.8593 - loss: 0.3594\n",
            "Epoch 48/50\n",
            "\u001b[1m139/139\u001b[0m \u001b[32m━━━━━━━━━━━━━━━━━━━━\u001b[0m\u001b[37m\u001b[0m \u001b[1m1s\u001b[0m 4ms/step - accuracy: 0.8604 - loss: 0.3451\n",
            "Epoch 49/50\n",
            "\u001b[1m139/139\u001b[0m \u001b[32m━━━━━━━━━━━━━━━━━━━━\u001b[0m\u001b[37m\u001b[0m \u001b[1m1s\u001b[0m 4ms/step - accuracy: 0.8547 - loss: 0.3480\n",
            "Epoch 50/50\n",
            "\u001b[1m139/139\u001b[0m \u001b[32m━━━━━━━━━━━━━━━━━━━━\u001b[0m\u001b[37m\u001b[0m \u001b[1m1s\u001b[0m 5ms/step - accuracy: 0.8716 - loss: 0.3294\n"
          ]
        }
      ],
      "source": [
        "# Compile model with an optimiser, loss function and metric\n",
        "model.compile(optimizer=\"adam\", # Forma de gradiente descendiente\n",
        "              loss=\"sparse_categorical_crossentropy\", # Presentación del error\n",
        "              metrics =['accuracy']) # Evaluación del comportamiento\n",
        "\n",
        "# Entrena con datos, respuestas y épocas\n",
        "history = model.fit(train_images, train_labels, epochs=50)"
      ]
    },
    {
      "cell_type": "code",
      "source": [
        "accuracy = 0.8716 # Actualizar aquí con el accuracy resultante"
      ],
      "metadata": {
        "id": "A2Ewut7O5tS6"
      },
      "execution_count": 145,
      "outputs": []
    },
    {
      "cell_type": "code",
      "source": [
        "import pandas as pd\n",
        "import matplotlib.pyplot as plt\n",
        "\n",
        "# Load history into dataframe to analyze learning performance\n",
        "df = pd.DataFrame(history.history)\n",
        "\n",
        "fig, (ax1, ax2) = plt.subplots(1, 2, figsize=(8, 3))\n",
        "fig.suptitle('Simple Model Performance')\n",
        "\n",
        "acc_vs_epochs = df.plot(y=\"accuracy\", title=\"Accuracy vs Epochs\", label=\"Base acc\", legend=True, ax=ax1)\n",
        "acc_vs_epochs.set(xlabel=\"Epochs\", ylabel=\"Accuracy\")\n",
        "\n",
        "loss_vs_epochs = df.plot(y=\"loss\", title = \"Loss vs Epochs\", label=\"Base loss\", legend=True, ax=ax2)\n",
        "loss_vs_epochs.set(xlabel=\"Epochs\", ylabel=\"Loss\")\n",
        "\n",
        "plt.tight_layout()"
      ],
      "metadata": {
        "colab": {
          "base_uri": "https://localhost:8080/",
          "height": 316
        },
        "id": "IScBwWgdyrmo",
        "outputId": "7229d76b-6785-4236-ebbc-5b577956eac9"
      },
      "execution_count": 146,
      "outputs": [
        {
          "output_type": "display_data",
          "data": {
            "text/plain": [
              "<Figure size 800x300 with 2 Axes>"
            ],
            "image/png": "[encoded data removed]"
          },
          "metadata": {}
        }
      ]
    },
    {
      "cell_type": "code",
      "source": [
        "# Evaluate the model\n",
        "test_loss, test_acc = model.evaluate(test_images, test_labels)\n",
        "\n",
        "print('\\nTest accuracy:', test_acc) # Overfitting: gap between traing acc and test acc"
      ],
      "metadata": {
        "id": "1pqFZlpkW3tO",
        "colab": {
          "base_uri": "https://localhost:8080/"
        },
        "outputId": "043534a8-6431-4570-cf7b-2ca7193fc9e7"
      },
      "execution_count": 147,
      "outputs": [
        {
          "output_type": "stream",
          "name": "stdout",
          "text": [
            "\u001b[1m63/63\u001b[0m \u001b[32m━━━━━━━━━━━━━━━━━━━━\u001b[0m\u001b[37m\u001b[0m \u001b[1m1s\u001b[0m 9ms/step - accuracy: 0.8440 - loss: 0.3656\n",
            "\n",
            "Test accuracy: 0.8495000004768372\n"
          ]
        }
      ]
    },
    {
      "cell_type": "code",
      "source": [
        "def make_predictions(base_model):\n",
        "  probability_model = tf.keras.Sequential([base_model,\n",
        "                                          tf.keras.layers.Softmax()]) # Model linear outputs are transformed into probabilities\n",
        "\n",
        "  predicted = probability_model.predict(test_images)\n",
        "  predicted_lbls = np.argmax(predicted, axis=1)\n",
        "\n",
        "  print(\"\\n1st prediction\\n\", predicted[0])\n",
        "  print(\"\\nHighest confidence value:\", predicted_lbls[0])\n",
        "\n",
        "  return(predicted, predicted_lbls)\n",
        "\n",
        "# >>> Make predictions\n",
        "predictions, predicted_labels = make_predictions(model)"
      ],
      "metadata": {
        "colab": {
          "base_uri": "https://localhost:8080/"
        },
        "id": "EPGjppkXzqUh",
        "outputId": "5870109e-0952-4599-a808-a5723ad9e914"
      },
      "execution_count": 148,
      "outputs": [
        {
          "output_type": "stream",
          "name": "stdout",
          "text": [
            "\u001b[1m63/63\u001b[0m \u001b[32m━━━━━━━━━━━━━━━━━━━━\u001b[0m\u001b[37m\u001b[0m \u001b[1m0s\u001b[0m 2ms/step\n",
            "\n",
            "1st prediction\n",
            " [0.16981961 0.1371244  0.26076236 0.15674229 0.1381897  0.1373616 ]\n",
            "\n",
            "Highest confidence value: 2\n"
          ]
        }
      ]
    },
    {
      "cell_type": "code",
      "source": [
        "def plot_comparison(idx, predicted, predicted_lbls):\n",
        "  if predicted_lbls[idx] == test_labels[idx]:\n",
        "    color = 'green'\n",
        "  else:\n",
        "    color = 'red'\n",
        "\n",
        "  plt.figure(figsize=(4,1))\n",
        "  plt.title(f\"Prediction evaluation (img {idx}): {class_names[predicted_lbls[idx]]} {int(100*np.max(predicted))}% ({class_names[test_labels[idx]]})\", color=color)\n",
        "\n",
        "  plt.xticks(range(len(class_names)))\n",
        "  plt.yticks([])\n",
        "\n",
        "  prediction_plt = plt.bar(range(len(class_names)), predicted[idx], color=\"#777777\")\n",
        "  plt.ylim([0, 1])\n",
        "\n",
        "  prediction_plt[predicted_lbls[idx]].set_color('red')\n",
        "  prediction_plt[test_labels[idx]].set_color('green')\n",
        "\n",
        "  plt.show()\n",
        "\n",
        "# >>> Verify predictions\n",
        "plot_comparison(1, predictions, predicted_labels)\n",
        "plot_comparison(2, predictions, predicted_labels)"
      ],
      "metadata": {
        "colab": {
          "base_uri": "https://localhost:8080/",
          "height": 303
        },
        "id": "qlR1SUxjKewY",
        "outputId": "51a7dfa0-c255-4f75-a2ef-fe47fad3a30b"
      },
      "execution_count": 149,
      "outputs": [
        {
          "output_type": "display_data",
          "data": {
            "text/plain": [
              "<Figure size 400x100 with 1 Axes>"
            ],
            "image/png": "[encoded data removed]"
          },
          "metadata": {}
        },
        {
          "output_type": "display_data",
          "data": {
            "text/plain": [
              "<Figure size 400x100 with 1 Axes>"
            ],
            "image/png": "[encoded data removed]"
          },
          "metadata": {}
        }
      ]
    },
    {
      "cell_type": "code",
      "source": [
        "from tabulate import tabulate\n",
        "\n",
        "# Confusion matrix\n",
        "count_predictions = []\n",
        "headers = ['↓ True vs Predicted →', '0', '1', '2', '3', '4', '5', '↓ Total ↓']\n",
        "\n",
        "for i in range(len(class_names)):\n",
        "  count_predictions.append([0 for i in range(len(class_names) + 2)])\n",
        "  count_predictions[i][0] = i\n",
        "\n",
        "for i in range(len(test_labels)):\n",
        "  count_predictions[test_labels[i]][predicted_labels[i] + 1] += 1\n",
        "  count_predictions[test_labels[i]][7] += 1\n",
        "\n",
        "print(tabulate(count_predictions, headers))"
      ],
      "metadata": {
        "colab": {
          "base_uri": "https://localhost:8080/"
        },
        "id": "EtHWqCdVWDqR",
        "outputId": "0ff5c907-1f7e-4927-ef57-177d85c6de2a"
      },
      "execution_count": 150,
      "outputs": [
        {
          "output_type": "stream",
          "name": "stdout",
          "text": [
            "  ↓ True vs Predicted →    0    1    2    3    4    5    ↓ Total ↓\n",
            "-----------------------  ---  ---  ---  ---  ---  ---  -----------\n",
            "                      0  459    0    2    0    0    0          461\n",
            "                      1    0  206    0    2   15    1          224\n",
            "                      2    3    0  377   16    0    1          397\n",
            "                      3    0    0   52   98    5   56          211\n",
            "                      4   25    6    0    7  173   26          237\n",
            "                      5    0    0   13   60   11  386          470\n"
          ]
        }
      ]
    },
    {
      "cell_type": "markdown",
      "source": [
        "> Fin del 1er avance: 6 de abril del 2025"
      ],
      "metadata": {
        "id": "Ly2wWqhmKgPy"
      }
    },
    {
      "cell_type": "code",
      "source": [
        "# Comprobación\n",
        "from tensorflow.math import confusion_matrix\n",
        "\n",
        "prediction_matrix = confusion_matrix(test_labels, predicted_labels).numpy()\n",
        "\n",
        "print(tabulate(prediction_matrix, headers[1:]))"
      ],
      "metadata": {
        "colab": {
          "base_uri": "https://localhost:8080/"
        },
        "id": "4ET_zixNkYjY",
        "outputId": "2f92c6fc-2cd0-4adf-b507-b601100ac423"
      },
      "execution_count": 151,
      "outputs": [
        {
          "output_type": "stream",
          "name": "stdout",
          "text": [
            "  0    1    2    3    4    5\n",
            "---  ---  ---  ---  ---  ---\n",
            "459    0    2    0    0    0\n",
            "  0  206    0    2   15    1\n",
            "  3    0  377   16    0    1\n",
            "  0    0   52   98    5   56\n",
            " 25    6    0    7  173   26\n",
            "  0    0   13   60   11  386\n"
          ]
        }
      ]
    },
    {
      "cell_type": "markdown",
      "source": [
        "### Base metrics\n",
        "\n",
        "- **Accuracy** (overall correctness of a model) <br>\n",
        "  `(TP + TN) / Todo`\n",
        "- **Precision** (accuracy of positive predictions) <br>\n",
        "  `TP / (TP + FP)`\n",
        "- **Recall** (how well the model identifies positive instances) <br>\n",
        "  `TP / (TP + FN)`\n",
        "- **F1** (represents precision and recall in a single value) <br>\n",
        "  `Precision * Recall / (Precision * Recall)`\n",
        "- **MCC** (considers all elements of the confusion matrix) <br>\n",
        "  `(TP * TN - FP * FN) / sqrt((TP + FP) * (TP + FN) * (TN + FP) * (TN + FN))`"
      ],
      "metadata": {
        "id": "NZcZpmYBcMYj"
      }
    },
    {
      "cell_type": "code",
      "source": [
        "print(f\"TRAIN ACC vs TEST ACC\\n{accuracy} ↔ {test_acc}\")"
      ],
      "metadata": {
        "colab": {
          "base_uri": "https://localhost:8080/"
        },
        "id": "IYkeT9hg6KkK",
        "outputId": "4da94867-b4b3-4976-f1d6-e4f263b47008"
      },
      "execution_count": 152,
      "outputs": [
        {
          "output_type": "stream",
          "name": "stdout",
          "text": [
            "TRAIN ACC vs TEST ACC\n",
            "0.8716 ↔ 0.8495000004768372\n"
          ]
        }
      ]
    },
    {
      "cell_type": "code",
      "source": [
        "#pip install scikit-learn\n",
        "from sklearn.metrics import accuracy_score, precision_score, recall_score, f1_score, matthews_corrcoef\n",
        "\n",
        "metrics_headers = ['↓ Metric & Model →', 'Model 1', 'Model 2', 'Model 3']\n",
        "metrics_body = [['Train accuracy', 0, 0, 0], ['Test accuracy', 0, 0, 0], ['Precision', 0, 0, 0], ['Recall', 0, 0, 0], ['F1-score', 0, 0, 0], ['Matthews Correlation Coeff', 0, 0, 0]]\n",
        "\n",
        "def set_metrics(title, idx, acc, predicted_lbls):\n",
        "  metrics_headers[idx] = title\n",
        "  metrics_body[0][idx] = acc\n",
        "\n",
        "  # Misleading with imbalanced datasets\n",
        "  metrics_body[1][idx] = accuracy_score(test_labels, predicted_lbls)\n",
        "\n",
        "  # How good is the model avoiding false positives\n",
        "  metrics_body[2][idx] = precision_score(test_labels, predicted_lbls, average='macro')\n",
        "\n",
        "  # How good is the model avoiding false negatives\n",
        "  metrics_body[3][idx] = recall_score(test_labels, predicted_lbls, average='macro')\n",
        "\n",
        "  # Precision + Recall\n",
        "  metrics_body[4][idx] = f1_score(test_labels, predicted_lbls, average='macro')\n",
        "\n",
        "  # Helpful with imbalanced datasets\n",
        "  metrics_body[5][idx] = matthews_corrcoef(test_labels, predicted_lbls)\n",
        "\n",
        "  print(tabulate(metrics_body, metrics_headers))\n",
        "\n",
        "# >>> Create metrics table\n",
        "set_metrics('ANN - MLP', 1, accuracy, predicted_labels)"
      ],
      "metadata": {
        "colab": {
          "base_uri": "https://localhost:8080/"
        },
        "id": "CxwWR1NoNedR",
        "outputId": "922899a3-a6fe-475c-c5d2-c56611b7f203"
      },
      "execution_count": 153,
      "outputs": [
        {
          "output_type": "stream",
          "name": "stdout",
          "text": [
            "↓ Metric & Model →            ANN - MLP    Model 2    Model 3\n",
            "--------------------------  -----------  ---------  ---------\n",
            "Train accuracy                 0.8716            0          0\n",
            "Test accuracy                  0.8495            0          0\n",
            "Precision                      0.828023          0          0\n",
            "Recall                         0.813436          0          0\n",
            "F1-score                       0.818863          0          0\n",
            "Matthews Correlation Coeff     0.815046          0          0\n"
          ]
        }
      ]
    },
    {
      "cell_type": "markdown",
      "source": [
        "### Observaciones importantes\n",
        "\n",
        "#### Matriz de confusión\n",
        "1. Las clases con más instancias (0 y 5) tienen más del doble de registros que las de menos (3 y 1)\n",
        "2. La 3ra clase es la que menos intancias predecidas correctamente tiene\n",
        "- Es confundida en su mayoría por las clases 2 y 5\n",
        "- Es la clase con menos instancias\n",
        "\n",
        "#### Metrics\n",
        "1. Este primer modelo es overfitting porque el accuracy del entrenamiento tiende a ser menor que el de las pruebas\n",
        "2. A pesar de que el MCC es un poco menor al accuracy, la cifra refleja que el desequilibrio de clases no está siendo un factor muy importante\n",
        "3. Este primer modelo es un poco mejor evitando falsos positivos que falsos negativos (aunque su desempeño en ambas áreas es muy similar)\n",
        "\n"
      ],
      "metadata": {
        "id": "_1qHlSpevhMr"
      }
    },
    {
      "cell_type": "markdown",
      "source": [
        "### Enhanced model\n",
        "- 2 Conv2D layers for feature extraction"
      ],
      "metadata": {
        "id": "CCFCX8vP8LK8"
      }
    },
    {
      "cell_type": "code",
      "source": [
        "# Helper library\n",
        "from tensorflow.keras.layers import Conv2D, MaxPooling2D\n",
        "\n",
        "# Enhancement: Feature extraction\n",
        "enh_model = Sequential([\n",
        "                    # e.g. 4 filtros de tamaño 1x3 -> Aprende 12 features\n",
        "                    Conv2D(filters=4, kernel_size=(1,3), activation=\"relu\", input_shape=(4,9,1)),\n",
        "                    Conv2D(filters=2, kernel_size=(1,2)),\n",
        "                    # Configuración base (modelo inicial)\n",
        "                    Flatten(input_shape=(36,1)),\n",
        "                    Dense(128, activation='relu'),\n",
        "                    Dense(67, activation='relu'),\n",
        "                    Dense(len(class_names), activation='softmax')\n",
        "          ])\n",
        "\n",
        "enh_model.summary()"
      ],
      "metadata": {
        "id": "IPhnVYIr-9fN",
        "colab": {
          "base_uri": "https://localhost:8080/",
          "height": 410
        },
        "outputId": "6936483d-6b0d-4212-9607-a523116b3084"
      },
      "execution_count": 154,
      "outputs": [
        {
          "output_type": "stream",
          "name": "stderr",
          "text": [
            "/usr/local/lib/python3.11/dist-packages/keras/src/layers/convolutional/base_conv.py:107: UserWarning: Do not pass an `input_shape`/`input_dim` argument to a layer. When using Sequential models, prefer using an `Input(shape)` object as the first layer in the model instead.\n",
            "  super().__init__(activity_regularizer=activity_regularizer, **kwargs)\n",
            "/usr/local/lib/python3.11/dist-packages/keras/src/layers/reshaping/flatten.py:37: UserWarning: Do not pass an `input_shape`/`input_dim` argument to a layer. When using Sequential models, prefer using an `Input(shape)` object as the first layer in the model instead.\n",
            "  super().__init__(**kwargs)\n"
          ]
        },
        {
          "output_type": "display_data",
          "data": {
            "text/plain": [
              "\u001b[1mModel: \"sequential_31\"\u001b[0m\n"
            ],
            "text/html": [
              "<pre style=\"white-space:pre;overflow-x:auto;line-height:normal;font-family:Menlo,'DejaVu Sans Mono',consolas,'Courier New',monospace\"><span style=\"font-weight: bold\">Model: \"sequential_31\"</span>\n",
              "</pre>\n"
            ]
          },
          "metadata": {}
        },
        {
          "output_type": "display_data",
          "data": {
            "text/plain": [
              "┏━━━━━━━━━━━━━━━━━━━━━━━━━━━━━━━━━┳━━━━━━━━━━━━━━━━━━━━━━━━┳━━━━━━━━━━━━━━━┓\n",
              "┃\u001b[1m \u001b[0m\u001b[1mLayer (type)                   \u001b[0m\u001b[1m \u001b[0m┃\u001b[1m \u001b[0m\u001b[1mOutput Shape          \u001b[0m\u001b[1m \u001b[0m┃\u001b[1m \u001b[0m\u001b[1m      Param #\u001b[0m\u001b[1m \u001b[0m┃\n",
              "┡━━━━━━━━━━━━━━━━━━━━━━━━━━━━━━━━━╇━━━━━━━━━━━━━━━━━━━━━━━━╇━━━━━━━━━━━━━━━┩\n",
              "│ conv2d_15 (\u001b[38;5;33mConv2D\u001b[0m)              │ (\u001b[38;5;45mNone\u001b[0m, \u001b[38;5;34m4\u001b[0m, \u001b[38;5;34m7\u001b[0m, \u001b[38;5;34m4\u001b[0m)        │            \u001b[38;5;34m16\u001b[0m │\n",
              "├─────────────────────────────────┼────────────────────────┼───────────────┤\n",
              "│ conv2d_16 (\u001b[38;5;33mConv2D\u001b[0m)              │ (\u001b[38;5;45mNone\u001b[0m, \u001b[38;5;34m4\u001b[0m, \u001b[38;5;34m6\u001b[0m, \u001b[38;5;34m2\u001b[0m)        │            \u001b[38;5;34m18\u001b[0m │\n",
              "├─────────────────────────────────┼────────────────────────┼───────────────┤\n",
              "│ flatten_19 (\u001b[38;5;33mFlatten\u001b[0m)            │ (\u001b[38;5;45mNone\u001b[0m, \u001b[38;5;34m48\u001b[0m)             │             \u001b[38;5;34m0\u001b[0m │\n",
              "├─────────────────────────────────┼────────────────────────┼───────────────┤\n",
              "│ dense_57 (\u001b[38;5;33mDense\u001b[0m)                │ (\u001b[38;5;45mNone\u001b[0m, \u001b[38;5;34m128\u001b[0m)            │         \u001b[38;5;34m6,272\u001b[0m │\n",
              "├─────────────────────────────────┼────────────────────────┼───────────────┤\n",
              "│ dense_58 (\u001b[38;5;33mDense\u001b[0m)                │ (\u001b[38;5;45mNone\u001b[0m, \u001b[38;5;34m67\u001b[0m)             │         \u001b[38;5;34m8,643\u001b[0m │\n",
              "├─────────────────────────────────┼────────────────────────┼───────────────┤\n",
              "│ dense_59 (\u001b[38;5;33mDense\u001b[0m)                │ (\u001b[38;5;45mNone\u001b[0m, \u001b[38;5;34m6\u001b[0m)              │           \u001b[38;5;34m408\u001b[0m │\n",
              "└─────────────────────────────────┴────────────────────────┴───────────────┘\n"
            ],
            "text/html": [
              "<pre style=\"white-space:pre;overflow-x:auto;line-height:normal;font-family:Menlo,'DejaVu Sans Mono',consolas,'Courier New',monospace\">┏━━━━━━━━━━━━━━━━━━━━━━━━━━━━━━━━━┳━━━━━━━━━━━━━━━━━━━━━━━━┳━━━━━━━━━━━━━━━┓\n",
              "┃<span style=\"font-weight: bold\"> Layer (type)                    </span>┃<span style=\"font-weight: bold\"> Output Shape           </span>┃<span style=\"font-weight: bold\">       Param # </span>┃\n",
              "┡━━━━━━━━━━━━━━━━━━━━━━━━━━━━━━━━━╇━━━━━━━━━━━━━━━━━━━━━━━━╇━━━━━━━━━━━━━━━┩\n",
              "│ conv2d_15 (<span style=\"color: #0087ff; text-decoration-color: #0087ff\">Conv2D</span>)              │ (<span style=\"color: #00d7ff; text-decoration-color: #00d7ff\">None</span>, <span style=\"color: #00af00; text-decoration-color: #00af00\">4</span>, <span style=\"color: #00af00; text-decoration-color: #00af00\">7</span>, <span style=\"color: #00af00; text-decoration-color: #00af00\">4</span>)        │            <span style=\"color: #00af00; text-decoration-color: #00af00\">16</span> │\n",
              "├─────────────────────────────────┼────────────────────────┼───────────────┤\n",
              "│ conv2d_16 (<span style=\"color: #0087ff; text-decoration-color: #0087ff\">Conv2D</span>)              │ (<span style=\"color: #00d7ff; text-decoration-color: #00d7ff\">None</span>, <span style=\"color: #00af00; text-decoration-color: #00af00\">4</span>, <span style=\"color: #00af00; text-decoration-color: #00af00\">6</span>, <span style=\"color: #00af00; text-decoration-color: #00af00\">2</span>)        │            <span style=\"color: #00af00; text-decoration-color: #00af00\">18</span> │\n",
              "├─────────────────────────────────┼────────────────────────┼───────────────┤\n",
              "│ flatten_19 (<span style=\"color: #0087ff; text-decoration-color: #0087ff\">Flatten</span>)            │ (<span style=\"color: #00d7ff; text-decoration-color: #00d7ff\">None</span>, <span style=\"color: #00af00; text-decoration-color: #00af00\">48</span>)             │             <span style=\"color: #00af00; text-decoration-color: #00af00\">0</span> │\n",
              "├─────────────────────────────────┼────────────────────────┼───────────────┤\n",
              "│ dense_57 (<span style=\"color: #0087ff; text-decoration-color: #0087ff\">Dense</span>)                │ (<span style=\"color: #00d7ff; text-decoration-color: #00d7ff\">None</span>, <span style=\"color: #00af00; text-decoration-color: #00af00\">128</span>)            │         <span style=\"color: #00af00; text-decoration-color: #00af00\">6,272</span> │\n",
              "├─────────────────────────────────┼────────────────────────┼───────────────┤\n",
              "│ dense_58 (<span style=\"color: #0087ff; text-decoration-color: #0087ff\">Dense</span>)                │ (<span style=\"color: #00d7ff; text-decoration-color: #00d7ff\">None</span>, <span style=\"color: #00af00; text-decoration-color: #00af00\">67</span>)             │         <span style=\"color: #00af00; text-decoration-color: #00af00\">8,643</span> │\n",
              "├─────────────────────────────────┼────────────────────────┼───────────────┤\n",
              "│ dense_59 (<span style=\"color: #0087ff; text-decoration-color: #0087ff\">Dense</span>)                │ (<span style=\"color: #00d7ff; text-decoration-color: #00d7ff\">None</span>, <span style=\"color: #00af00; text-decoration-color: #00af00\">6</span>)              │           <span style=\"color: #00af00; text-decoration-color: #00af00\">408</span> │\n",
              "└─────────────────────────────────┴────────────────────────┴───────────────┘\n",
              "</pre>\n"
            ]
          },
          "metadata": {}
        },
        {
          "output_type": "display_data",
          "data": {
            "text/plain": [
              "\u001b[1m Total params: \u001b[0m\u001b[38;5;34m15,357\u001b[0m (59.99 KB)\n"
            ],
            "text/html": [
              "<pre style=\"white-space:pre;overflow-x:auto;line-height:normal;font-family:Menlo,'DejaVu Sans Mono',consolas,'Courier New',monospace\"><span style=\"font-weight: bold\"> Total params: </span><span style=\"color: #00af00; text-decoration-color: #00af00\">15,357</span> (59.99 KB)\n",
              "</pre>\n"
            ]
          },
          "metadata": {}
        },
        {
          "output_type": "display_data",
          "data": {
            "text/plain": [
              "\u001b[1m Trainable params: \u001b[0m\u001b[38;5;34m15,357\u001b[0m (59.99 KB)\n"
            ],
            "text/html": [
              "<pre style=\"white-space:pre;overflow-x:auto;line-height:normal;font-family:Menlo,'DejaVu Sans Mono',consolas,'Courier New',monospace\"><span style=\"font-weight: bold\"> Trainable params: </span><span style=\"color: #00af00; text-decoration-color: #00af00\">15,357</span> (59.99 KB)\n",
              "</pre>\n"
            ]
          },
          "metadata": {}
        },
        {
          "output_type": "display_data",
          "data": {
            "text/plain": [
              "\u001b[1m Non-trainable params: \u001b[0m\u001b[38;5;34m0\u001b[0m (0.00 B)\n"
            ],
            "text/html": [
              "<pre style=\"white-space:pre;overflow-x:auto;line-height:normal;font-family:Menlo,'DejaVu Sans Mono',consolas,'Courier New',monospace\"><span style=\"font-weight: bold\"> Non-trainable params: </span><span style=\"color: #00af00; text-decoration-color: #00af00\">0</span> (0.00 B)\n",
              "</pre>\n"
            ]
          },
          "metadata": {}
        }
      ]
    },
    {
      "cell_type": "code",
      "source": [
        "# Compile model with same hyperparameters\n",
        "enh_model.compile(optimizer=\"adam\",\n",
        "                  loss=\"sparse_categorical_crossentropy\",\n",
        "                  metrics =['accuracy'])\n",
        "\n",
        "# Entrenamiento\n",
        "enh_history = enh_model.fit(train_images, train_labels, epochs=50)"
      ],
      "metadata": {
        "colab": {
          "base_uri": "https://localhost:8080/"
        },
        "id": "uO7s7UgKCpZ9",
        "outputId": "57fe4f3a-d4df-4755-a3fa-9dbaa17fa873"
      },
      "execution_count": 155,
      "outputs": [
        {
          "output_type": "stream",
          "name": "stdout",
          "text": [
            "Epoch 1/50\n",
            "\u001b[1m139/139\u001b[0m \u001b[32m━━━━━━━━━━━━━━━━━━━━\u001b[0m\u001b[37m\u001b[0m \u001b[1m2s\u001b[0m 3ms/step - accuracy: 0.3187 - loss: 1.6121\n",
            "Epoch 2/50\n",
            "\u001b[1m139/139\u001b[0m \u001b[32m━━━━━━━━━━━━━━━━━━━━\u001b[0m\u001b[37m\u001b[0m \u001b[1m1s\u001b[0m 3ms/step - accuracy: 0.6411 - loss: 0.9822\n",
            "Epoch 3/50\n",
            "\u001b[1m139/139\u001b[0m \u001b[32m━━━━━━━━━━━━━━━━━━━━\u001b[0m\u001b[37m\u001b[0m \u001b[1m0s\u001b[0m 3ms/step - accuracy: 0.7969 - loss: 0.6555\n",
            "Epoch 4/50\n",
            "\u001b[1m139/139\u001b[0m \u001b[32m━━━━━━━━━━━━━━━━━━━━\u001b[0m\u001b[37m\u001b[0m \u001b[1m1s\u001b[0m 3ms/step - accuracy: 0.8029 - loss: 0.5059\n",
            "Epoch 5/50\n",
            "\u001b[1m139/139\u001b[0m \u001b[32m━━━━━━━━━━━━━━━━━━━━\u001b[0m\u001b[37m\u001b[0m \u001b[1m0s\u001b[0m 3ms/step - accuracy: 0.8197 - loss: 0.4555\n",
            "Epoch 6/50\n",
            "\u001b[1m139/139\u001b[0m \u001b[32m━━━━━━━━━━━━━━━━━━━━\u001b[0m\u001b[37m\u001b[0m \u001b[1m1s\u001b[0m 3ms/step - accuracy: 0.8392 - loss: 0.4047\n",
            "Epoch 7/50\n",
            "\u001b[1m139/139\u001b[0m \u001b[32m━━━━━━━━━━━━━━━━━━━━\u001b[0m\u001b[37m\u001b[0m \u001b[1m1s\u001b[0m 3ms/step - accuracy: 0.8394 - loss: 0.4005\n",
            "Epoch 8/50\n",
            "\u001b[1m139/139\u001b[0m \u001b[32m━━━━━━━━━━━━━━━━━━━━\u001b[0m\u001b[37m\u001b[0m \u001b[1m1s\u001b[0m 3ms/step - accuracy: 0.8502 - loss: 0.3881\n",
            "Epoch 9/50\n",
            "\u001b[1m139/139\u001b[0m \u001b[32m━━━━━━━━━━━━━━━━━━━━\u001b[0m\u001b[37m\u001b[0m \u001b[1m1s\u001b[0m 4ms/step - accuracy: 0.8555 - loss: 0.3612\n",
            "Epoch 10/50\n",
            "\u001b[1m139/139\u001b[0m \u001b[32m━━━━━━━━━━━━━━━━━━━━\u001b[0m\u001b[37m\u001b[0m \u001b[1m1s\u001b[0m 5ms/step - accuracy: 0.8519 - loss: 0.3555\n",
            "Epoch 11/50\n",
            "\u001b[1m139/139\u001b[0m \u001b[32m━━━━━━━━━━━━━━━━━━━━\u001b[0m\u001b[37m\u001b[0m \u001b[1m1s\u001b[0m 5ms/step - accuracy: 0.8640 - loss: 0.3538\n",
            "Epoch 12/50\n",
            "\u001b[1m139/139\u001b[0m \u001b[32m━━━━━━━━━━━━━━━━━━━━\u001b[0m\u001b[37m\u001b[0m \u001b[1m1s\u001b[0m 4ms/step - accuracy: 0.8677 - loss: 0.3357\n",
            "Epoch 13/50\n",
            "\u001b[1m139/139\u001b[0m \u001b[32m━━━━━━━━━━━━━━━━━━━━\u001b[0m\u001b[37m\u001b[0m \u001b[1m0s\u001b[0m 3ms/step - accuracy: 0.8691 - loss: 0.3320\n",
            "Epoch 14/50\n",
            "\u001b[1m139/139\u001b[0m \u001b[32m━━━━━━━━━━━━━━━━━━━━\u001b[0m\u001b[37m\u001b[0m \u001b[1m0s\u001b[0m 3ms/step - accuracy: 0.8776 - loss: 0.3216\n",
            "Epoch 15/50\n",
            "\u001b[1m139/139\u001b[0m \u001b[32m━━━━━━━━━━━━━━━━━━━━\u001b[0m\u001b[37m\u001b[0m \u001b[1m1s\u001b[0m 3ms/step - accuracy: 0.8626 - loss: 0.3438\n",
            "Epoch 16/50\n",
            "\u001b[1m139/139\u001b[0m \u001b[32m━━━━━━━━━━━━━━━━━━━━\u001b[0m\u001b[37m\u001b[0m \u001b[1m1s\u001b[0m 3ms/step - accuracy: 0.8830 - loss: 0.3112\n",
            "Epoch 17/50\n",
            "\u001b[1m139/139\u001b[0m \u001b[32m━━━━━━━━━━━━━━━━━━━━\u001b[0m\u001b[37m\u001b[0m \u001b[1m0s\u001b[0m 3ms/step - accuracy: 0.8834 - loss: 0.3066\n",
            "Epoch 18/50\n",
            "\u001b[1m139/139\u001b[0m \u001b[32m━━━━━━━━━━━━━━━━━━━━\u001b[0m\u001b[37m\u001b[0m \u001b[1m0s\u001b[0m 3ms/step - accuracy: 0.8971 - loss: 0.2765\n",
            "Epoch 19/50\n",
            "\u001b[1m139/139\u001b[0m \u001b[32m━━━━━━━━━━━━━━━━━━━━\u001b[0m\u001b[37m\u001b[0m \u001b[1m0s\u001b[0m 3ms/step - accuracy: 0.8928 - loss: 0.2961\n",
            "Epoch 20/50\n",
            "\u001b[1m139/139\u001b[0m \u001b[32m━━━━━━━━━━━━━━━━━━━━\u001b[0m\u001b[37m\u001b[0m \u001b[1m0s\u001b[0m 3ms/step - accuracy: 0.8896 - loss: 0.2884\n",
            "Epoch 21/50\n",
            "\u001b[1m139/139\u001b[0m \u001b[32m━━━━━━━━━━━━━━━━━━━━\u001b[0m\u001b[37m\u001b[0m \u001b[1m1s\u001b[0m 3ms/step - accuracy: 0.8859 - loss: 0.3030\n",
            "Epoch 22/50\n",
            "\u001b[1m139/139\u001b[0m \u001b[32m━━━━━━━━━━━━━━━━━━━━\u001b[0m\u001b[37m\u001b[0m \u001b[1m0s\u001b[0m 3ms/step - accuracy: 0.8814 - loss: 0.2996\n",
            "Epoch 23/50\n",
            "\u001b[1m139/139\u001b[0m \u001b[32m━━━━━━━━━━━━━━━━━━━━\u001b[0m\u001b[37m\u001b[0m \u001b[1m0s\u001b[0m 3ms/step - accuracy: 0.8895 - loss: 0.2793\n",
            "Epoch 24/50\n",
            "\u001b[1m139/139\u001b[0m \u001b[32m━━━━━━━━━━━━━━━━━━━━\u001b[0m\u001b[37m\u001b[0m \u001b[1m1s\u001b[0m 3ms/step - accuracy: 0.8925 - loss: 0.2896\n",
            "Epoch 25/50\n",
            "\u001b[1m139/139\u001b[0m \u001b[32m━━━━━━━━━━━━━━━━━━━━\u001b[0m\u001b[37m\u001b[0m \u001b[1m0s\u001b[0m 3ms/step - accuracy: 0.8950 - loss: 0.2788\n",
            "Epoch 26/50\n",
            "\u001b[1m139/139\u001b[0m \u001b[32m━━━━━━━━━━━━━━━━━━━━\u001b[0m\u001b[37m\u001b[0m \u001b[1m0s\u001b[0m 3ms/step - accuracy: 0.8973 - loss: 0.2615\n",
            "Epoch 27/50\n",
            "\u001b[1m139/139\u001b[0m \u001b[32m━━━━━━━━━━━━━━━━━━━━\u001b[0m\u001b[37m\u001b[0m \u001b[1m1s\u001b[0m 3ms/step - accuracy: 0.8945 - loss: 0.2601\n",
            "Epoch 28/50\n",
            "\u001b[1m139/139\u001b[0m \u001b[32m━━━━━━━━━━━━━━━━━━━━\u001b[0m\u001b[37m\u001b[0m \u001b[1m0s\u001b[0m 3ms/step - accuracy: 0.8902 - loss: 0.2791\n",
            "Epoch 29/50\n",
            "\u001b[1m139/139\u001b[0m \u001b[32m━━━━━━━━━━━━━━━━━━━━\u001b[0m\u001b[37m\u001b[0m \u001b[1m0s\u001b[0m 3ms/step - accuracy: 0.9025 - loss: 0.2504\n",
            "Epoch 30/50\n",
            "\u001b[1m139/139\u001b[0m \u001b[32m━━━━━━━━━━━━━━━━━━━━\u001b[0m\u001b[37m\u001b[0m \u001b[1m0s\u001b[0m 3ms/step - accuracy: 0.9083 - loss: 0.2370\n",
            "Epoch 31/50\n",
            "\u001b[1m139/139\u001b[0m \u001b[32m━━━━━━━━━━━━━━━━━━━━\u001b[0m\u001b[37m\u001b[0m \u001b[1m1s\u001b[0m 3ms/step - accuracy: 0.8911 - loss: 0.2731\n",
            "Epoch 32/50\n",
            "\u001b[1m139/139\u001b[0m \u001b[32m━━━━━━━━━━━━━━━━━━━━\u001b[0m\u001b[37m\u001b[0m \u001b[1m1s\u001b[0m 3ms/step - accuracy: 0.9056 - loss: 0.2393\n",
            "Epoch 33/50\n",
            "\u001b[1m139/139\u001b[0m \u001b[32m━━━━━━━━━━━━━━━━━━━━\u001b[0m\u001b[37m\u001b[0m \u001b[1m1s\u001b[0m 4ms/step - accuracy: 0.8994 - loss: 0.2574\n",
            "Epoch 34/50\n",
            "\u001b[1m139/139\u001b[0m \u001b[32m━━━━━━━━━━━━━━━━━━━━\u001b[0m\u001b[37m\u001b[0m \u001b[1m1s\u001b[0m 5ms/step - accuracy: 0.9040 - loss: 0.2546\n",
            "Epoch 35/50\n",
            "\u001b[1m139/139\u001b[0m \u001b[32m━━━━━━━━━━━━━━━━━━━━\u001b[0m\u001b[37m\u001b[0m \u001b[1m1s\u001b[0m 5ms/step - accuracy: 0.8963 - loss: 0.2811\n",
            "Epoch 36/50\n",
            "\u001b[1m139/139\u001b[0m \u001b[32m━━━━━━━━━━━━━━━━━━━━\u001b[0m\u001b[37m\u001b[0m \u001b[1m1s\u001b[0m 5ms/step - accuracy: 0.9039 - loss: 0.2502\n",
            "Epoch 37/50\n",
            "\u001b[1m139/139\u001b[0m \u001b[32m━━━━━━━━━━━━━━━━━━━━\u001b[0m\u001b[37m\u001b[0m \u001b[1m1s\u001b[0m 5ms/step - accuracy: 0.9028 - loss: 0.2502\n",
            "Epoch 38/50\n",
            "\u001b[1m139/139\u001b[0m \u001b[32m━━━━━━━━━━━━━━━━━━━━\u001b[0m\u001b[37m\u001b[0m \u001b[1m1s\u001b[0m 3ms/step - accuracy: 0.9053 - loss: 0.2334\n",
            "Epoch 39/50\n",
            "\u001b[1m139/139\u001b[0m \u001b[32m━━━━━━━━━━━━━━━━━━━━\u001b[0m\u001b[37m\u001b[0m \u001b[1m0s\u001b[0m 3ms/step - accuracy: 0.9002 - loss: 0.2487\n",
            "Epoch 40/50\n",
            "\u001b[1m139/139\u001b[0m \u001b[32m━━━━━━━━━━━━━━━━━━━━\u001b[0m\u001b[37m\u001b[0m \u001b[1m1s\u001b[0m 3ms/step - accuracy: 0.9046 - loss: 0.2408\n",
            "Epoch 41/50\n",
            "\u001b[1m139/139\u001b[0m \u001b[32m━━━━━━━━━━━━━━━━━━━━\u001b[0m\u001b[37m\u001b[0m \u001b[1m0s\u001b[0m 3ms/step - accuracy: 0.9107 - loss: 0.2286\n",
            "Epoch 42/50\n",
            "\u001b[1m139/139\u001b[0m \u001b[32m━━━━━━━━━━━━━━━━━━━━\u001b[0m\u001b[37m\u001b[0m \u001b[1m0s\u001b[0m 3ms/step - accuracy: 0.9137 - loss: 0.2324\n",
            "Epoch 43/50\n",
            "\u001b[1m139/139\u001b[0m \u001b[32m━━━━━━━━━━━━━━━━━━━━\u001b[0m\u001b[37m\u001b[0m \u001b[1m0s\u001b[0m 3ms/step - accuracy: 0.9137 - loss: 0.2257\n",
            "Epoch 44/50\n",
            "\u001b[1m139/139\u001b[0m \u001b[32m━━━━━━━━━━━━━━━━━━━━\u001b[0m\u001b[37m\u001b[0m \u001b[1m1s\u001b[0m 3ms/step - accuracy: 0.9054 - loss: 0.2267\n",
            "Epoch 45/50\n",
            "\u001b[1m139/139\u001b[0m \u001b[32m━━━━━━━━━━━━━━━━━━━━\u001b[0m\u001b[37m\u001b[0m \u001b[1m1s\u001b[0m 4ms/step - accuracy: 0.9193 - loss: 0.2206\n",
            "Epoch 46/50\n",
            "\u001b[1m139/139\u001b[0m \u001b[32m━━━━━━━━━━━━━━━━━━━━\u001b[0m\u001b[37m\u001b[0m \u001b[1m1s\u001b[0m 4ms/step - accuracy: 0.9100 - loss: 0.2292\n",
            "Epoch 47/50\n",
            "\u001b[1m139/139\u001b[0m \u001b[32m━━━━━━━━━━━━━━━━━━━━\u001b[0m\u001b[37m\u001b[0m \u001b[1m0s\u001b[0m 3ms/step - accuracy: 0.9039 - loss: 0.2422\n",
            "Epoch 48/50\n",
            "\u001b[1m139/139\u001b[0m \u001b[32m━━━━━━━━━━━━━━━━━━━━\u001b[0m\u001b[37m\u001b[0m \u001b[1m1s\u001b[0m 3ms/step - accuracy: 0.9115 - loss: 0.2269\n",
            "Epoch 49/50\n",
            "\u001b[1m139/139\u001b[0m \u001b[32m━━━━━━━━━━━━━━━━━━━━\u001b[0m\u001b[37m\u001b[0m \u001b[1m0s\u001b[0m 3ms/step - accuracy: 0.9134 - loss: 0.2244\n",
            "Epoch 50/50\n",
            "\u001b[1m139/139\u001b[0m \u001b[32m━━━━━━━━━━━━━━━━━━━━\u001b[0m\u001b[37m\u001b[0m \u001b[1m0s\u001b[0m 3ms/step - accuracy: 0.9148 - loss: 0.2157\n"
          ]
        }
      ]
    },
    {
      "cell_type": "code",
      "source": [
        "enh_accuracy = 0.9148 # Actualizar con el accuracy resultante"
      ],
      "metadata": {
        "id": "T5XvXa6-oqV7"
      },
      "execution_count": 156,
      "outputs": []
    },
    {
      "cell_type": "code",
      "source": [
        "# Analyze learning performance\n",
        "df2 = pd.DataFrame(enh_history.history)\n",
        "\n",
        "fig, (ax1, ax2) = plt.subplots(1, 2, figsize=(8, 3))\n",
        "fig.suptitle('Enhanced Model Performance')\n",
        "\n",
        "acc_vs_epochs = df.plot(y=\"accuracy\", title=\"Accuracy vs Epochs\", label=\"Base acc\", legend=True, ax=ax1)\n",
        "df2.plot(y=\"accuracy\", title=\"Accuracy vs Epochs\", label=\"Conv2D acc\", legend=True, ax=ax1)\n",
        "acc_vs_epochs.set(xlabel=\"Epochs\", ylabel=\"Accuracy\")\n",
        "\n",
        "loss_vs_epochs = df.plot(y=\"loss\", title = \"Loss vs Epochs\", label=\"Base loss\", legend=True, ax=ax2)\n",
        "df2.plot(y=\"loss\", title = \"Loss vs Epochs\", label=\"Conv2D loss\", legend=True, ax=ax2)\n",
        "loss_vs_epochs.set(xlabel=\"Epochs\", ylabel=\"Loss\")\n",
        "\n",
        "plt.tight_layout()"
      ],
      "metadata": {
        "colab": {
          "base_uri": "https://localhost:8080/",
          "height": 316
        },
        "id": "y9lbIgUk59S7",
        "outputId": "bd74d09a-478a-4271-d3d6-766985c067b7"
      },
      "execution_count": 157,
      "outputs": [
        {
          "output_type": "display_data",
          "data": {
            "text/plain": [
              "<Figure size 800x300 with 2 Axes>"
            ],
            "image/png": "[encoded data removed]"
          },
          "metadata": {}
        }
      ]
    },
    {
      "cell_type": "code",
      "source": [
        "# Evaluate the model\n",
        "enh_test_loss, enh_test_acc = enh_model.evaluate(test_images, test_labels)\n",
        "\n",
        "print('\\nTest accuracy:', enh_test_acc) # Overfitting: gap between traing acc and test acc"
      ],
      "metadata": {
        "colab": {
          "base_uri": "https://localhost:8080/"
        },
        "id": "2tiFl8o0qNZJ",
        "outputId": "888230eb-82ee-4c05-a770-5f5856357c92"
      },
      "execution_count": 158,
      "outputs": [
        {
          "output_type": "stream",
          "name": "stdout",
          "text": [
            "\u001b[1m63/63\u001b[0m \u001b[32m━━━━━━━━━━━━━━━━━━━━\u001b[0m\u001b[37m\u001b[0m \u001b[1m0s\u001b[0m 2ms/step - accuracy: 0.9145 - loss: 0.2513\n",
            "\n",
            "Test accuracy: 0.9054999947547913\n"
          ]
        }
      ]
    },
    {
      "cell_type": "code",
      "source": [
        "# >>> Make predictions\n",
        "enh_predictions, enh_predicted_labels = make_predictions(enh_model)"
      ],
      "metadata": {
        "colab": {
          "base_uri": "https://localhost:8080/"
        },
        "id": "800nUySy2tOC",
        "outputId": "49dd608f-6136-4603-9a2d-d95a2166b771"
      },
      "execution_count": 159,
      "outputs": [
        {
          "output_type": "stream",
          "name": "stdout",
          "text": [
            "\u001b[1m63/63\u001b[0m \u001b[32m━━━━━━━━━━━━━━━━━━━━\u001b[0m\u001b[37m\u001b[0m \u001b[1m0s\u001b[0m 3ms/step\n",
            "\n",
            "1st prediction\n",
            " [0.13483144 0.13291901 0.31732544 0.1481192  0.13292794 0.1338769 ]\n",
            "\n",
            "Highest confidence value: 2\n"
          ]
        }
      ]
    },
    {
      "cell_type": "code",
      "source": [
        "enh_prediction_matrix = confusion_matrix(test_labels, enh_predicted_labels).numpy()\n",
        "\n",
        "print(tabulate(enh_prediction_matrix, headers[1:]))"
      ],
      "metadata": {
        "colab": {
          "base_uri": "https://localhost:8080/"
        },
        "id": "Sxg0GutoqcMA",
        "outputId": "b550a06e-96dc-4b05-887b-26a8610db157"
      },
      "execution_count": 160,
      "outputs": [
        {
          "output_type": "stream",
          "name": "stdout",
          "text": [
            "  0    1    2    3    4    5\n",
            "---  ---  ---  ---  ---  ---\n",
            "459    0    1    0    1    0\n",
            "  0  214    2    3    4    1\n",
            "  3    0  367   22    2    3\n",
            "  0    0   24  156    2   29\n",
            " 10    0    0    4  213   10\n",
            "  1    0   12   43   12  402\n"
          ]
        }
      ]
    },
    {
      "cell_type": "code",
      "source": [
        "print(f\"TRAIN ACC vs TEST ACC\\n{enh_accuracy} ↔ {enh_test_acc}\")"
      ],
      "metadata": {
        "colab": {
          "base_uri": "https://localhost:8080/"
        },
        "id": "LC7vMNJVqgR8",
        "outputId": "431032f4-17e2-4d26-98ec-c055c507a742"
      },
      "execution_count": 161,
      "outputs": [
        {
          "output_type": "stream",
          "name": "stdout",
          "text": [
            "TRAIN ACC vs TEST ACC\n",
            "0.9148 ↔ 0.9054999947547913\n"
          ]
        }
      ]
    },
    {
      "cell_type": "code",
      "source": [
        "# >>> Update metrics table\n",
        "set_metrics('Conv2D enh', 2, enh_accuracy, enh_predicted_labels)"
      ],
      "metadata": {
        "colab": {
          "base_uri": "https://localhost:8080/"
        },
        "id": "OhyNSSzb2hDV",
        "outputId": "5474f071-bc79-478d-8055-61c1adff4fa4"
      },
      "execution_count": 162,
      "outputs": [
        {
          "output_type": "stream",
          "name": "stdout",
          "text": [
            "↓ Metric & Model →            ANN - MLP    Conv2D enh    Model 3\n",
            "--------------------------  -----------  ------------  ---------\n",
            "Train accuracy                 0.8716        0.9148            0\n",
            "Test accuracy                  0.8495        0.9055            0\n",
            "Precision                      0.828023      0.895363          0\n",
            "Recall                         0.813436      0.894807          0\n",
            "F1-score                       0.818863      0.894661          0\n",
            "Matthews Correlation Coeff     0.815046      0.884222          0\n"
          ]
        }
      ]
    },
    {
      "cell_type": "markdown",
      "source": [
        "> Fin del 2do avance: 18 de abril del 2025"
      ],
      "metadata": {
        "id": "PmzRkQMkyiW0"
      }
    },
    {
      "cell_type": "code",
      "source": [
        "# TRABAJO EN PROCESO ----------------------------------------------------------"
      ],
      "metadata": {
        "id": "0mLn8orfALtF"
      },
      "execution_count": null,
      "outputs": []
    },
    {
      "cell_type": "code",
      "source": [
        "def transform_data(base_arr):\n",
        "  records_arr = []\n",
        "\n",
        "  for i in range(len(base_arr)):\n",
        "    records_arr.append(base_arr[i].flatten())\n",
        "\n",
        "  records_arr = np.array(records_arr)\n",
        "\n",
        "  print(records_arr[0],\"\\n\")\n",
        "\n",
        "  return records_arr"
      ],
      "metadata": {
        "id": "STTfYmOD9N_L"
      },
      "execution_count": null,
      "outputs": []
    },
    {
      "cell_type": "code",
      "source": [
        "print(\"🦾 TRANSFORMING TRAIN INFO...\\n\")\n",
        "train_records = transform_data(train_images)\n",
        "print(train_labels)\n",
        "\n",
        "print(\"\\n📊 TRANSFORMING TEST INFO...\\n\")\n",
        "test_records = transform_data(test_images)\n",
        "print(test_labels)"
      ],
      "metadata": {
        "id": "Ep3dVWSKe78X"
      },
      "execution_count": null,
      "outputs": []
    },
    {
      "cell_type": "code",
      "source": [
        "# Regression\n",
        "model2  =  Sequential([ # Conectado en orden\n",
        "                    Dense(128, activation='relu', input_shape=train_records[0].shape),\n",
        "                    Dense(67, activation='relu'),\n",
        "                    Dense(len(class_names), activation='softmax')\n",
        "          ])\n",
        "\n",
        "model2.summary()"
      ],
      "metadata": {
        "id": "cRNicELu7P2K"
      },
      "execution_count": null,
      "outputs": []
    },
    {
      "cell_type": "code",
      "source": [
        "# Compile model with an optimiser, loss function and metric\n",
        "model2.compile(optimizer=\"adam\", # Forma de gradiente descendiente\n",
        "              loss=\"sparse_categorical_crossentropy\", # Presentación del error\n",
        "              metrics =['accuracy']) # Evaluación del comportamiento\n",
        "\n",
        "# Entrena con datos, respuestas y épocas\n",
        "history = model2.fit(train_records, train_labels, epochs = 50)"
      ],
      "metadata": {
        "id": "t1GhIeAw8r-4"
      },
      "execution_count": null,
      "outputs": []
    }
  ],
  "metadata": {
    "colab": {
      "provenance": []
    },
    "kernelspec": {
      "display_name": "Python 3",
      "name": "python3"
    },
    "language_info": {
      "name": "python"
    }
  },
  "nbformat": 4,
  "nbformat_minor": 0
}