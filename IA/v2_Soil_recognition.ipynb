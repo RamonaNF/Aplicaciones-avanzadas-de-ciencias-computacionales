{
  "cells": [
    {
      "cell_type": "markdown",
      "metadata": {
        "id": "3cf_1MpmEzSd"
      },
      "source": [
        "# Desarrollo de aplicaciones avanzadas de ciencias computacionales\n",
        "\n",
        "#### TC3002B.201: IA\n",
        "Ramona Najera, A01423596\n"
      ]
    },
    {
      "cell_type": "markdown",
      "source": [
        "<br>\n",
        "<table>\n",
        "  <tr>\n",
        "    <th>Avance 1</th>\n",
        "    <th>Avance 2</th>\n",
        "  </tr>\n",
        "  <tr>\n",
        "    <td>- Obtener, generar, aumentar dataset <br><br>\n",
        "        - Separación training y test <br><br>\n",
        "        - Técnicas de escalamiento <br><br>\n",
        "        - Preprocesado de datos\n",
        "    </td>\n",
        "    <td>- Estado del arte <br><br>\n",
        "        - Métricas <br><br>\n",
        "        - Interpretación de resultados\n",
        "    </td>\n",
        "  </tr>\n",
        "</table>\n",
        "<br>"
      ],
      "metadata": {
        "id": "24CR9rRxmyFD"
      }
    },
    {
      "cell_type": "code",
      "execution_count": 1,
      "metadata": {
        "colab": {
          "base_uri": "https://localhost:8080/"
        },
        "id": "ARjB1h0yssSt",
        "outputId": "f5f0700c-b506-4db3-be08-c896e2df894d"
      },
      "outputs": [
        {
          "output_type": "stream",
          "name": "stdout",
          "text": [
            "Mounted at /content/drive\n"
          ]
        }
      ],
      "source": [
        "# Conexión por google drive para obtener archivos de entrada\n",
        "from google.colab import drive\n",
        "drive.mount('/content/drive')"
      ]
    },
    {
      "cell_type": "code",
      "execution_count": 2,
      "metadata": {
        "colab": {
          "base_uri": "https://localhost:8080/"
        },
        "id": "wcPPs2Wl3Ldc",
        "outputId": "ca042661-722c-4c58-82b7-1bc876d63c13"
      },
      "outputs": [
        {
          "output_type": "stream",
          "name": "stdout",
          "text": [
            "/content/drive/MyDrive/Colab Notebooks/Recursos/A01423596/Satellite\n",
            "Index  sat.doc\tsat.trn  sat.tst\n"
          ]
        }
      ],
      "source": [
        "# Magic functions (interactúa con el servidor)\n",
        "%cd '/content/drive/MyDrive/Colab Notebooks/Recursos/A01423596/Satellite'\n",
        "!ls"
      ]
    },
    {
      "cell_type": "markdown",
      "metadata": {
        "id": "ieGlg4Wqr0eg"
      },
      "source": [
        "# Statlog project\n",
        "\n",
        "### Initial Dataset\n",
        "🗃 [Landstat Satellite](https://archive.ics.uci.edu/dataset/146/statlog+landsat+satellite) (Climate & environment)\n",
        "\n",
        "- 4435 training instances 🦾 <br>\n",
        "- 2000 testing instances 📊 <br><br>\n",
        "\n",
        "### Task: Classification\n",
        "- 36 attributes (4 spectral bands x 9 pixels)\n",
        "- Numerical attributes (between 0 and 255)\n",
        "- 7 class labels (with no data for class 6)"
      ]
    },
    {
      "cell_type": "code",
      "execution_count": 3,
      "metadata": {
        "id": "kiGTGqYnzc4c"
      },
      "outputs": [],
      "source": [
        "class_names = ['red soil',                     # 1 → 0\n",
        "               'cotton crop',                  # 2 → 1\n",
        "               'grey soil',                    # 3 → 2\n",
        "               'damp grey soil',               # 4 → 3\n",
        "               'soil with vegetation stubble', # 5 → 4\n",
        "               #'mixture class',               # 6 (NO DATA)\n",
        "               'very damp grey soil']          # 7 → 5"
      ]
    },
    {
      "cell_type": "code",
      "source": [
        "print(\"🔍 DATASET PREVIEW\\n  - 36 numbers for the pixels\\n  - One for the class label\\n\")\n",
        "\n",
        "with open(\"/content/drive/MyDrive/Colab Notebooks/Recursos/A01423596/Satellite/sat.trn\", 'r') as train_file:\n",
        "  info = train_file.readline().strip('\\n').split(\" \")\n",
        "\n",
        "  print(len(info),\"elems per line of info\\n\")\n",
        "\n",
        "  print(info[:-1])\n",
        "  print(info[-1])"
      ],
      "metadata": {
        "colab": {
          "base_uri": "https://localhost:8080/"
        },
        "id": "f7kXrN3drwJ0",
        "outputId": "ab896292-37fe-46bc-8484-b834c86d7e85"
      },
      "execution_count": 4,
      "outputs": [
        {
          "output_type": "stream",
          "name": "stdout",
          "text": [
            "🔍 DATASET PREVIEW\n",
            "  - 36 numbers for the pixels\n",
            "  - One for the class label\n",
            "\n",
            "37 elems per line of info\n",
            "\n",
            "['92', '115', '120', '94', '84', '102', '106', '79', '84', '102', '102', '83', '101', '126', '133', '103', '92', '112', '118', '85', '84', '103', '104', '81', '102', '126', '134', '104', '88', '121', '128', '100', '84', '107', '113', '87']\n",
            "3\n"
          ]
        }
      ]
    },
    {
      "cell_type": "markdown",
      "source": [
        "### Feature scaling and preprocessing\n",
        "1. Separate class label from pixels info\n",
        "2. Class numbers will go from 0 to 5 to match `class_names` index\n",
        "3. Remove unused class\n",
        "4. Pixels will go from 0 to 1"
      ],
      "metadata": {
        "id": "yQqr5IehwaRw"
      }
    },
    {
      "cell_type": "code",
      "source": [
        "import numpy as np\n",
        "\n",
        "def obtain_data(filename):\n",
        "  img_arr = []\n",
        "  label_arr = []\n",
        "\n",
        "  with open(filename, 'r') as data_file:\n",
        "    for line in data_file:\n",
        "      info = line.split(\" \")\n",
        "\n",
        "      # Last number is class label\n",
        "      label_arr.append(int(info[-1]) - 1)\n",
        "\n",
        "      # Remove extra class\n",
        "      if label_arr[-1] == 6:\n",
        "        label_arr[-1] = 5\n",
        "\n",
        "      # Construct image\n",
        "      pixels = []\n",
        "      for pixel in info[:-1]:\n",
        "        pixels.append((int(pixel) / 255.0))\n",
        "\n",
        "      # 4 arrays (one per spectral band)\n",
        "      img_arr.append(np.array_split(np.array(pixels), 4))\n",
        "\n",
        "      # 6 arrays (for a square image)\n",
        "      #img_arr.append(np.array_split(np.array(pixels), 6)) # PREGUNTA\n",
        "\n",
        "      #img_arr.append(pixels) # PREGUNTA\n",
        "\n",
        "  img_arr = np.array(img_arr)\n",
        "  label_arr = np.array(label_arr).astype(np.uint8)\n",
        "\n",
        "  print(img_arr[0],\"\\n\")\n",
        "  print(label_arr)\n",
        "\n",
        "  return(img_arr, label_arr)"
      ],
      "metadata": {
        "id": "amNzJKCOyKDV"
      },
      "execution_count": 5,
      "outputs": []
    },
    {
      "cell_type": "code",
      "source": [
        "print(\"🦾 OBTAINING TRAIN INFO...\\n\")\n",
        "train_images, train_labels = obtain_data(\"/content/drive/MyDrive/Colab Notebooks/Recursos/A01423596/Satellite/sat.trn\")\n",
        "\n",
        "print(\"\\n📊 OBTAINING TEST INFO...\\n\")\n",
        "test_images, test_labels = obtain_data(\"/content/drive/MyDrive/Colab Notebooks/Recursos/A01423596/Satellite/sat.tst\")"
      ],
      "metadata": {
        "colab": {
          "base_uri": "https://localhost:8080/"
        },
        "id": "iw8yU7kzuTHs",
        "outputId": "368357cd-3e62-4f45-9c66-c37167e598da"
      },
      "execution_count": 6,
      "outputs": [
        {
          "output_type": "stream",
          "name": "stdout",
          "text": [
            "🦾 OBTAINING TRAIN INFO...\n",
            "\n",
            "[[0.36078431 0.45098039 0.47058824 0.36862745 0.32941176 0.4\n",
            "  0.41568627 0.30980392 0.32941176]\n",
            " [0.4        0.4        0.3254902  0.39607843 0.49411765 0.52156863\n",
            "  0.40392157 0.36078431 0.43921569]\n",
            " [0.4627451  0.33333333 0.32941176 0.40392157 0.40784314 0.31764706\n",
            "  0.4        0.49411765 0.5254902 ]\n",
            " [0.40784314 0.34509804 0.4745098  0.50196078 0.39215686 0.32941176\n",
            "  0.41960784 0.44313725 0.34117647]] \n",
            "\n",
            "[2 2 2 ... 3 3 3]\n",
            "\n",
            "📊 OBTAINING TEST INFO...\n",
            "\n",
            "[[0.31372549 0.4        0.4        0.30980392 0.29803922 0.4\n",
            "  0.4        0.30980392 0.29803922]\n",
            " [0.4        0.41568627 0.3254902  0.29803922 0.38823529 0.42352941\n",
            "  0.33333333 0.29803922 0.40392157]\n",
            " [0.4627451  0.34509804 0.31372549 0.41960784 0.4627451  0.34509804\n",
            "  0.30980392 0.41960784 0.42745098]\n",
            " [0.34117647 0.30980392 0.41960784 0.42745098 0.34117647 0.30980392\n",
            "  0.41960784 0.44313725 0.34117647]] \n",
            "\n",
            "[2 2 3 ... 4 4 4]\n"
          ]
        }
      ]
    },
    {
      "cell_type": "code",
      "execution_count": null,
      "metadata": {
        "id": "RGVPJ5H7F9LB"
      },
      "outputs": [],
      "source": [
        "\"\"\"\n",
        "import matplotlib.pyplot as plt\n",
        "\n",
        "examples = 6\n",
        "types = set()\n",
        "\n",
        "# 🔍 CLASS EXAMPLE PREVIEW\n",
        "for i in range(len(train_labels)):\n",
        "  if not examples:\n",
        "    break\n",
        "\n",
        "  if train_labels[i] not in types:\n",
        "    plt.figure(figsize=(2,2))\n",
        "    plt.imshow(train_images[i])\n",
        "\n",
        "    #plt.colorbar()\n",
        "    plt.title(f'{class_names[train_labels[i]]} ({train_labels[i]})')\n",
        "\n",
        "    plt.show()\n",
        "\n",
        "    types.add(train_labels[i])\n",
        "    examples = examples - 1\n",
        "\"\"\""
      ]
    },
    {
      "cell_type": "code",
      "execution_count": 13,
      "metadata": {
        "colab": {
          "base_uri": "https://localhost:8080/",
          "height": 257
        },
        "id": "4roCbzvxPGwd",
        "outputId": "d219a932-8756-4c63-9265-dfd9c7e16b58"
      },
      "outputs": [
        {
          "output_type": "display_data",
          "data": {
            "text/plain": [
              "\u001b[1mModel: \"sequential_2\"\u001b[0m\n"
            ],
            "text/html": [
              "<pre style=\"white-space:pre;overflow-x:auto;line-height:normal;font-family:Menlo,'DejaVu Sans Mono',consolas,'Courier New',monospace\"><span style=\"font-weight: bold\">Model: \"sequential_2\"</span>\n",
              "</pre>\n"
            ]
          },
          "metadata": {}
        },
        {
          "output_type": "display_data",
          "data": {
            "text/plain": [
              "┏━━━━━━━━━━━━━━━━━━━━━━━━━━━━━━━━━┳━━━━━━━━━━━━━━━━━━━━━━━━┳━━━━━━━━━━━━━━━┓\n",
              "┃\u001b[1m \u001b[0m\u001b[1mLayer (type)                   \u001b[0m\u001b[1m \u001b[0m┃\u001b[1m \u001b[0m\u001b[1mOutput Shape          \u001b[0m\u001b[1m \u001b[0m┃\u001b[1m \u001b[0m\u001b[1m      Param #\u001b[0m\u001b[1m \u001b[0m┃\n",
              "┡━━━━━━━━━━━━━━━━━━━━━━━━━━━━━━━━━╇━━━━━━━━━━━━━━━━━━━━━━━━╇━━━━━━━━━━━━━━━┩\n",
              "│ flatten_2 (\u001b[38;5;33mFlatten\u001b[0m)             │ (\u001b[38;5;45mNone\u001b[0m, \u001b[38;5;34m36\u001b[0m)             │             \u001b[38;5;34m0\u001b[0m │\n",
              "├─────────────────────────────────┼────────────────────────┼───────────────┤\n",
              "│ dense_4 (\u001b[38;5;33mDense\u001b[0m)                 │ (\u001b[38;5;45mNone\u001b[0m, \u001b[38;5;34m128\u001b[0m)            │         \u001b[38;5;34m4,736\u001b[0m │\n",
              "├─────────────────────────────────┼────────────────────────┼───────────────┤\n",
              "│ dense_5 (\u001b[38;5;33mDense\u001b[0m)                 │ (\u001b[38;5;45mNone\u001b[0m, \u001b[38;5;34m67\u001b[0m)             │         \u001b[38;5;34m8,643\u001b[0m │\n",
              "├─────────────────────────────────┼────────────────────────┼───────────────┤\n",
              "│ dense_6 (\u001b[38;5;33mDense\u001b[0m)                 │ (\u001b[38;5;45mNone\u001b[0m, \u001b[38;5;34m6\u001b[0m)              │           \u001b[38;5;34m408\u001b[0m │\n",
              "└─────────────────────────────────┴────────────────────────┴───────────────┘\n"
            ],
            "text/html": [
              "<pre style=\"white-space:pre;overflow-x:auto;line-height:normal;font-family:Menlo,'DejaVu Sans Mono',consolas,'Courier New',monospace\">┏━━━━━━━━━━━━━━━━━━━━━━━━━━━━━━━━━┳━━━━━━━━━━━━━━━━━━━━━━━━┳━━━━━━━━━━━━━━━┓\n",
              "┃<span style=\"font-weight: bold\"> Layer (type)                    </span>┃<span style=\"font-weight: bold\"> Output Shape           </span>┃<span style=\"font-weight: bold\">       Param # </span>┃\n",
              "┡━━━━━━━━━━━━━━━━━━━━━━━━━━━━━━━━━╇━━━━━━━━━━━━━━━━━━━━━━━━╇━━━━━━━━━━━━━━━┩\n",
              "│ flatten_2 (<span style=\"color: #0087ff; text-decoration-color: #0087ff\">Flatten</span>)             │ (<span style=\"color: #00d7ff; text-decoration-color: #00d7ff\">None</span>, <span style=\"color: #00af00; text-decoration-color: #00af00\">36</span>)             │             <span style=\"color: #00af00; text-decoration-color: #00af00\">0</span> │\n",
              "├─────────────────────────────────┼────────────────────────┼───────────────┤\n",
              "│ dense_4 (<span style=\"color: #0087ff; text-decoration-color: #0087ff\">Dense</span>)                 │ (<span style=\"color: #00d7ff; text-decoration-color: #00d7ff\">None</span>, <span style=\"color: #00af00; text-decoration-color: #00af00\">128</span>)            │         <span style=\"color: #00af00; text-decoration-color: #00af00\">4,736</span> │\n",
              "├─────────────────────────────────┼────────────────────────┼───────────────┤\n",
              "│ dense_5 (<span style=\"color: #0087ff; text-decoration-color: #0087ff\">Dense</span>)                 │ (<span style=\"color: #00d7ff; text-decoration-color: #00d7ff\">None</span>, <span style=\"color: #00af00; text-decoration-color: #00af00\">67</span>)             │         <span style=\"color: #00af00; text-decoration-color: #00af00\">8,643</span> │\n",
              "├─────────────────────────────────┼────────────────────────┼───────────────┤\n",
              "│ dense_6 (<span style=\"color: #0087ff; text-decoration-color: #0087ff\">Dense</span>)                 │ (<span style=\"color: #00d7ff; text-decoration-color: #00d7ff\">None</span>, <span style=\"color: #00af00; text-decoration-color: #00af00\">6</span>)              │           <span style=\"color: #00af00; text-decoration-color: #00af00\">408</span> │\n",
              "└─────────────────────────────────┴────────────────────────┴───────────────┘\n",
              "</pre>\n"
            ]
          },
          "metadata": {}
        },
        {
          "output_type": "display_data",
          "data": {
            "text/plain": [
              "\u001b[1m Total params: \u001b[0m\u001b[38;5;34m13,787\u001b[0m (53.86 KB)\n"
            ],
            "text/html": [
              "<pre style=\"white-space:pre;overflow-x:auto;line-height:normal;font-family:Menlo,'DejaVu Sans Mono',consolas,'Courier New',monospace\"><span style=\"font-weight: bold\"> Total params: </span><span style=\"color: #00af00; text-decoration-color: #00af00\">13,787</span> (53.86 KB)\n",
              "</pre>\n"
            ]
          },
          "metadata": {}
        },
        {
          "output_type": "display_data",
          "data": {
            "text/plain": [
              "\u001b[1m Trainable params: \u001b[0m\u001b[38;5;34m13,787\u001b[0m (53.86 KB)\n"
            ],
            "text/html": [
              "<pre style=\"white-space:pre;overflow-x:auto;line-height:normal;font-family:Menlo,'DejaVu Sans Mono',consolas,'Courier New',monospace\"><span style=\"font-weight: bold\"> Trainable params: </span><span style=\"color: #00af00; text-decoration-color: #00af00\">13,787</span> (53.86 KB)\n",
              "</pre>\n"
            ]
          },
          "metadata": {}
        },
        {
          "output_type": "display_data",
          "data": {
            "text/plain": [
              "\u001b[1m Non-trainable params: \u001b[0m\u001b[38;5;34m0\u001b[0m (0.00 B)\n"
            ],
            "text/html": [
              "<pre style=\"white-space:pre;overflow-x:auto;line-height:normal;font-family:Menlo,'DejaVu Sans Mono',consolas,'Courier New',monospace\"><span style=\"font-weight: bold\"> Non-trainable params: </span><span style=\"color: #00af00; text-decoration-color: #00af00\">0</span> (0.00 B)\n",
              "</pre>\n"
            ]
          },
          "metadata": {}
        }
      ],
      "source": [
        "import tensorflow as tf\n",
        "\n",
        "# Helper libraries\n",
        "from tensorflow.keras.models import Sequential\n",
        "from tensorflow.keras.layers import Dense, Flatten\n",
        "\n",
        "# Simple model multilayer perceptron (neural network)\n",
        "model  =  Sequential([ # Conectado en orden\n",
        "                    Flatten(input_shape=train_images[0].shape), # Matrices se vuelven una sola línea\n",
        "                    # Neuronas intermedias\n",
        "                    Dense(128, activation='relu'),\n",
        "                    Dense(67, activation='relu'),\n",
        "                    Dense(6, activation='softmax') # Neuronas de salida (# de clases)\n",
        "          ])\n",
        "\n",
        "model.summary()"
      ]
    },
    {
      "cell_type": "code",
      "execution_count": 14,
      "metadata": {
        "id": "hOkmZ46UQiKR",
        "colab": {
          "base_uri": "https://localhost:8080/"
        },
        "outputId": "dfe87cf4-5f35-4967-c652-fa371f6c0461"
      },
      "outputs": [
        {
          "output_type": "stream",
          "name": "stdout",
          "text": [
            "Epoch 1/50\n",
            "\u001b[1m139/139\u001b[0m \u001b[32m━━━━━━━━━━━━━━━━━━━━\u001b[0m\u001b[37m\u001b[0m \u001b[1m2s\u001b[0m 4ms/step - accuracy: 0.3055 - loss: 1.6569\n",
            "Epoch 2/50\n",
            "\u001b[1m139/139\u001b[0m \u001b[32m━━━━━━━━━━━━━━━━━━━━\u001b[0m\u001b[37m\u001b[0m \u001b[1m1s\u001b[0m 4ms/step - accuracy: 0.6216 - loss: 1.1087\n",
            "Epoch 3/50\n",
            "\u001b[1m139/139\u001b[0m \u001b[32m━━━━━━━━━━━━━━━━━━━━\u001b[0m\u001b[37m\u001b[0m \u001b[1m1s\u001b[0m 4ms/step - accuracy: 0.7989 - loss: 0.7474\n",
            "Epoch 4/50\n",
            "\u001b[1m139/139\u001b[0m \u001b[32m━━━━━━━━━━━━━━━━━━━━\u001b[0m\u001b[37m\u001b[0m \u001b[1m1s\u001b[0m 4ms/step - accuracy: 0.8094 - loss: 0.6020\n",
            "Epoch 5/50\n",
            "\u001b[1m139/139\u001b[0m \u001b[32m━━━━━━━━━━━━━━━━━━━━\u001b[0m\u001b[37m\u001b[0m \u001b[1m1s\u001b[0m 4ms/step - accuracy: 0.8260 - loss: 0.5104\n",
            "Epoch 6/50\n",
            "\u001b[1m139/139\u001b[0m \u001b[32m━━━━━━━━━━━━━━━━━━━━\u001b[0m\u001b[37m\u001b[0m \u001b[1m1s\u001b[0m 4ms/step - accuracy: 0.8243 - loss: 0.4800\n",
            "Epoch 7/50\n",
            "\u001b[1m139/139\u001b[0m \u001b[32m━━━━━━━━━━━━━━━━━━━━\u001b[0m\u001b[37m\u001b[0m \u001b[1m0s\u001b[0m 2ms/step - accuracy: 0.8343 - loss: 0.4596\n",
            "Epoch 8/50\n",
            "\u001b[1m139/139\u001b[0m \u001b[32m━━━━━━━━━━━━━━━━━━━━\u001b[0m\u001b[37m\u001b[0m \u001b[1m0s\u001b[0m 2ms/step - accuracy: 0.8308 - loss: 0.4502\n",
            "Epoch 9/50\n",
            "\u001b[1m139/139\u001b[0m \u001b[32m━━━━━━━━━━━━━━━━━━━━\u001b[0m\u001b[37m\u001b[0m \u001b[1m1s\u001b[0m 3ms/step - accuracy: 0.8396 - loss: 0.4430\n",
            "Epoch 10/50\n",
            "\u001b[1m139/139\u001b[0m \u001b[32m━━━━━━━━━━━━━━━━━━━━\u001b[0m\u001b[37m\u001b[0m \u001b[1m0s\u001b[0m 2ms/step - accuracy: 0.8355 - loss: 0.4443\n",
            "Epoch 11/50\n",
            "\u001b[1m139/139\u001b[0m \u001b[32m━━━━━━━━━━━━━━━━━━━━\u001b[0m\u001b[37m\u001b[0m \u001b[1m0s\u001b[0m 2ms/step - accuracy: 0.8417 - loss: 0.4201\n",
            "Epoch 12/50\n",
            "\u001b[1m139/139\u001b[0m \u001b[32m━━━━━━━━━━━━━━━━━━━━\u001b[0m\u001b[37m\u001b[0m \u001b[1m1s\u001b[0m 3ms/step - accuracy: 0.8256 - loss: 0.4411\n",
            "Epoch 13/50\n",
            "\u001b[1m139/139\u001b[0m \u001b[32m━━━━━━━━━━━━━━━━━━━━\u001b[0m\u001b[37m\u001b[0m \u001b[1m0s\u001b[0m 2ms/step - accuracy: 0.8330 - loss: 0.4330\n",
            "Epoch 14/50\n",
            "\u001b[1m139/139\u001b[0m \u001b[32m━━━━━━━━━━━━━━━━━━━━\u001b[0m\u001b[37m\u001b[0m \u001b[1m0s\u001b[0m 3ms/step - accuracy: 0.8328 - loss: 0.4360\n",
            "Epoch 15/50\n",
            "\u001b[1m139/139\u001b[0m \u001b[32m━━━━━━━━━━━━━━━━━━━━\u001b[0m\u001b[37m\u001b[0m \u001b[1m0s\u001b[0m 2ms/step - accuracy: 0.8305 - loss: 0.4401\n",
            "Epoch 16/50\n",
            "\u001b[1m139/139\u001b[0m \u001b[32m━━━━━━━━━━━━━━━━━━━━\u001b[0m\u001b[37m\u001b[0m \u001b[1m1s\u001b[0m 3ms/step - accuracy: 0.8355 - loss: 0.4244\n",
            "Epoch 17/50\n",
            "\u001b[1m139/139\u001b[0m \u001b[32m━━━━━━━━━━━━━━━━━━━━\u001b[0m\u001b[37m\u001b[0m \u001b[1m1s\u001b[0m 2ms/step - accuracy: 0.8333 - loss: 0.4104\n",
            "Epoch 18/50\n",
            "\u001b[1m139/139\u001b[0m \u001b[32m━━━━━━━━━━━━━━━━━━━━\u001b[0m\u001b[37m\u001b[0m \u001b[1m0s\u001b[0m 2ms/step - accuracy: 0.8484 - loss: 0.4030\n",
            "Epoch 19/50\n",
            "\u001b[1m139/139\u001b[0m \u001b[32m━━━━━━━━━━━━━━━━━━━━\u001b[0m\u001b[37m\u001b[0m \u001b[1m1s\u001b[0m 2ms/step - accuracy: 0.8443 - loss: 0.4202\n",
            "Epoch 20/50\n",
            "\u001b[1m139/139\u001b[0m \u001b[32m━━━━━━━━━━━━━━━━━━━━\u001b[0m\u001b[37m\u001b[0m \u001b[1m0s\u001b[0m 2ms/step - accuracy: 0.8516 - loss: 0.3738\n",
            "Epoch 21/50\n",
            "\u001b[1m139/139\u001b[0m \u001b[32m━━━━━━━━━━━━━━━━━━━━\u001b[0m\u001b[37m\u001b[0m \u001b[1m1s\u001b[0m 2ms/step - accuracy: 0.8386 - loss: 0.4039\n",
            "Epoch 22/50\n",
            "\u001b[1m139/139\u001b[0m \u001b[32m━━━━━━━━━━━━━━━━━━━━\u001b[0m\u001b[37m\u001b[0m \u001b[1m1s\u001b[0m 2ms/step - accuracy: 0.8371 - loss: 0.4016\n",
            "Epoch 23/50\n",
            "\u001b[1m139/139\u001b[0m \u001b[32m━━━━━━━━━━━━━━━━━━━━\u001b[0m\u001b[37m\u001b[0m \u001b[1m1s\u001b[0m 2ms/step - accuracy: 0.8488 - loss: 0.3803\n",
            "Epoch 24/50\n",
            "\u001b[1m139/139\u001b[0m \u001b[32m━━━━━━━━━━━━━━━━━━━━\u001b[0m\u001b[37m\u001b[0m \u001b[1m0s\u001b[0m 2ms/step - accuracy: 0.8550 - loss: 0.3724\n",
            "Epoch 25/50\n",
            "\u001b[1m139/139\u001b[0m \u001b[32m━━━━━━━━━━━━━━━━━━━━\u001b[0m\u001b[37m\u001b[0m \u001b[1m1s\u001b[0m 2ms/step - accuracy: 0.8533 - loss: 0.3746\n",
            "Epoch 26/50\n",
            "\u001b[1m139/139\u001b[0m \u001b[32m━━━━━━━━━━━━━━━━━━━━\u001b[0m\u001b[37m\u001b[0m \u001b[1m1s\u001b[0m 2ms/step - accuracy: 0.8509 - loss: 0.3754\n",
            "Epoch 27/50\n",
            "\u001b[1m139/139\u001b[0m \u001b[32m━━━━━━━━━━━━━━━━━━━━\u001b[0m\u001b[37m\u001b[0m \u001b[1m1s\u001b[0m 4ms/step - accuracy: 0.8604 - loss: 0.3640\n",
            "Epoch 28/50\n",
            "\u001b[1m139/139\u001b[0m \u001b[32m━━━━━━━━━━━━━━━━━━━━\u001b[0m\u001b[37m\u001b[0m \u001b[1m1s\u001b[0m 4ms/step - accuracy: 0.8649 - loss: 0.3540\n",
            "Epoch 29/50\n",
            "\u001b[1m139/139\u001b[0m \u001b[32m━━━━━━━━━━━━━━━━━━━━\u001b[0m\u001b[37m\u001b[0m \u001b[1m1s\u001b[0m 4ms/step - accuracy: 0.8556 - loss: 0.3687\n",
            "Epoch 30/50\n",
            "\u001b[1m139/139\u001b[0m \u001b[32m━━━━━━━━━━━━━━━━━━━━\u001b[0m\u001b[37m\u001b[0m \u001b[1m1s\u001b[0m 4ms/step - accuracy: 0.8582 - loss: 0.3467\n",
            "Epoch 31/50\n",
            "\u001b[1m139/139\u001b[0m \u001b[32m━━━━━━━━━━━━━━━━━━━━\u001b[0m\u001b[37m\u001b[0m \u001b[1m1s\u001b[0m 4ms/step - accuracy: 0.8621 - loss: 0.3558\n",
            "Epoch 32/50\n",
            "\u001b[1m139/139\u001b[0m \u001b[32m━━━━━━━━━━━━━━━━━━━━\u001b[0m\u001b[37m\u001b[0m \u001b[1m1s\u001b[0m 4ms/step - accuracy: 0.8660 - loss: 0.3477\n",
            "Epoch 33/50\n",
            "\u001b[1m139/139\u001b[0m \u001b[32m━━━━━━━━━━━━━━━━━━━━\u001b[0m\u001b[37m\u001b[0m \u001b[1m0s\u001b[0m 2ms/step - accuracy: 0.8700 - loss: 0.3379\n",
            "Epoch 34/50\n",
            "\u001b[1m139/139\u001b[0m \u001b[32m━━━━━━━━━━━━━━━━━━━━\u001b[0m\u001b[37m\u001b[0m \u001b[1m1s\u001b[0m 3ms/step - accuracy: 0.8655 - loss: 0.3462\n",
            "Epoch 35/50\n",
            "\u001b[1m139/139\u001b[0m \u001b[32m━━━━━━━━━━━━━━━━━━━━\u001b[0m\u001b[37m\u001b[0m \u001b[1m1s\u001b[0m 3ms/step - accuracy: 0.8561 - loss: 0.3743\n",
            "Epoch 36/50\n",
            "\u001b[1m139/139\u001b[0m \u001b[32m━━━━━━━━━━━━━━━━━━━━\u001b[0m\u001b[37m\u001b[0m \u001b[1m1s\u001b[0m 2ms/step - accuracy: 0.8595 - loss: 0.3465\n",
            "Epoch 37/50\n",
            "\u001b[1m139/139\u001b[0m \u001b[32m━━━━━━━━━━━━━━━━━━━━\u001b[0m\u001b[37m\u001b[0m \u001b[1m1s\u001b[0m 2ms/step - accuracy: 0.8597 - loss: 0.3499\n",
            "Epoch 38/50\n",
            "\u001b[1m139/139\u001b[0m \u001b[32m━━━━━━━━━━━━━━━━━━━━\u001b[0m\u001b[37m\u001b[0m \u001b[1m0s\u001b[0m 3ms/step - accuracy: 0.8668 - loss: 0.3471\n",
            "Epoch 39/50\n",
            "\u001b[1m139/139\u001b[0m \u001b[32m━━━━━━━━━━━━━━━━━━━━\u001b[0m\u001b[37m\u001b[0m \u001b[1m0s\u001b[0m 2ms/step - accuracy: 0.8723 - loss: 0.3233\n",
            "Epoch 40/50\n",
            "\u001b[1m139/139\u001b[0m \u001b[32m━━━━━━━━━━━━━━━━━━━━\u001b[0m\u001b[37m\u001b[0m \u001b[1m1s\u001b[0m 3ms/step - accuracy: 0.8648 - loss: 0.3268\n",
            "Epoch 41/50\n",
            "\u001b[1m139/139\u001b[0m \u001b[32m━━━━━━━━━━━━━━━━━━━━\u001b[0m\u001b[37m\u001b[0m \u001b[1m1s\u001b[0m 3ms/step - accuracy: 0.8680 - loss: 0.3311\n",
            "Epoch 42/50\n",
            "\u001b[1m139/139\u001b[0m \u001b[32m━━━━━━━━━━━━━━━━━━━━\u001b[0m\u001b[37m\u001b[0m \u001b[1m0s\u001b[0m 3ms/step - accuracy: 0.8541 - loss: 0.3706\n",
            "Epoch 43/50\n",
            "\u001b[1m139/139\u001b[0m \u001b[32m━━━━━━━━━━━━━━━━━━━━\u001b[0m\u001b[37m\u001b[0m \u001b[1m1s\u001b[0m 2ms/step - accuracy: 0.8711 - loss: 0.3224\n",
            "Epoch 44/50\n",
            "\u001b[1m139/139\u001b[0m \u001b[32m━━━━━━━━━━━━━━━━━━━━\u001b[0m\u001b[37m\u001b[0m \u001b[1m1s\u001b[0m 2ms/step - accuracy: 0.8566 - loss: 0.3379\n",
            "Epoch 45/50\n",
            "\u001b[1m139/139\u001b[0m \u001b[32m━━━━━━━━━━━━━━━━━━━━\u001b[0m\u001b[37m\u001b[0m \u001b[1m1s\u001b[0m 3ms/step - accuracy: 0.8674 - loss: 0.3363\n",
            "Epoch 46/50\n",
            "\u001b[1m139/139\u001b[0m \u001b[32m━━━━━━━━━━━━━━━━━━━━\u001b[0m\u001b[37m\u001b[0m \u001b[1m0s\u001b[0m 2ms/step - accuracy: 0.8758 - loss: 0.3196\n",
            "Epoch 47/50\n",
            "\u001b[1m139/139\u001b[0m \u001b[32m━━━━━━━━━━━━━━━━━━━━\u001b[0m\u001b[37m\u001b[0m \u001b[1m0s\u001b[0m 2ms/step - accuracy: 0.8648 - loss: 0.3416\n",
            "Epoch 48/50\n",
            "\u001b[1m139/139\u001b[0m \u001b[32m━━━━━━━━━━━━━━━━━━━━\u001b[0m\u001b[37m\u001b[0m \u001b[1m0s\u001b[0m 2ms/step - accuracy: 0.8770 - loss: 0.3107\n",
            "Epoch 49/50\n",
            "\u001b[1m139/139\u001b[0m \u001b[32m━━━━━━━━━━━━━━━━━━━━\u001b[0m\u001b[37m\u001b[0m \u001b[1m1s\u001b[0m 3ms/step - accuracy: 0.8703 - loss: 0.3345\n",
            "Epoch 50/50\n",
            "\u001b[1m139/139\u001b[0m \u001b[32m━━━━━━━━━━━━━━━━━━━━\u001b[0m\u001b[37m\u001b[0m \u001b[1m0s\u001b[0m 2ms/step - accuracy: 0.8765 - loss: 0.3124\n"
          ]
        }
      ],
      "source": [
        "# Compile model with an optimiser, loss function and metric\n",
        "model.compile(optimizer=\"adam\", # Forma de gradiente descendiente\n",
        "              loss=\"sparse_categorical_crossentropy\", # Presentación del error\n",
        "              metrics =['accuracy']) # Evaluación del comportamiento\n",
        "\n",
        "# Entrena con datos, respuestas y épocas\n",
        "history = model.fit(train_images, train_labels, epochs = 50)"
      ]
    },
    {
      "cell_type": "code",
      "source": [
        "accuracy = 0.8765 # Actualizar aquí con la accuracy resultante"
      ],
      "metadata": {
        "id": "A2Ewut7O5tS6"
      },
      "execution_count": 15,
      "outputs": []
    },
    {
      "cell_type": "code",
      "source": [
        "import pandas as pd\n",
        "\n",
        "# Load history into dataframe to analyze learning performance\n",
        "df = pd.DataFrame(history.history)\n",
        "\n",
        "fig, (ax1, ax2) = plt.subplots(1, 2, figsize=(8, 3))\n",
        "fig.suptitle('Model Performance')\n",
        "\n",
        "acc_vs_epochs = df.plot(y=\"accuracy\", title=\"Accuracy vs Epochs\", legend=True, ax=ax1)\n",
        "acc_vs_epochs.set(xlabel=\"Epochs\", ylabel=\"Accuracy\")\n",
        "\n",
        "loss_vs_epochs = df.plot(y=\"loss\", title = \"Loss vs Epochs\",legend=True, ax=ax2)\n",
        "loss_vs_epochs.set(xlabel=\"Epochs\", ylabel=\"Loss\")\n",
        "\n",
        "plt.tight_layout()"
      ],
      "metadata": {
        "colab": {
          "base_uri": "https://localhost:8080/",
          "height": 316
        },
        "id": "siL4XEAyDBiZ",
        "outputId": "9da7c1fe-e099-43b2-d56b-0f0fa5877194"
      },
      "execution_count": 16,
      "outputs": [
        {
          "output_type": "display_data",
          "data": {
            "text/plain": [
              "<Figure size 800x300 with 2 Axes>"
            ],
            "image/png": "[encoded data removed]"
          },
          "metadata": {}
        }
      ]
    },
    {
      "cell_type": "code",
      "source": [
        "# Evaluate the model\n",
        "test_loss, test_acc = model.evaluate(test_images, test_labels)\n",
        "\n",
        "print('\\nTest accuracy:', test_acc) # Overfitting: gap between traing acc and test acc"
      ],
      "metadata": {
        "id": "1pqFZlpkW3tO",
        "colab": {
          "base_uri": "https://localhost:8080/"
        },
        "outputId": "007c54ad-5eed-4b7a-913c-61f2c8cdb9f3"
      },
      "execution_count": 17,
      "outputs": [
        {
          "output_type": "stream",
          "name": "stdout",
          "text": [
            "\u001b[1m63/63\u001b[0m \u001b[32m━━━━━━━━━━━━━━━━━━━━\u001b[0m\u001b[37m\u001b[0m \u001b[1m0s\u001b[0m 4ms/step - accuracy: 0.8560 - loss: 0.3638\n",
            "\n",
            "Test accuracy: 0.8579999804496765\n"
          ]
        }
      ]
    },
    {
      "cell_type": "code",
      "source": [
        "# Make predictions\n",
        "probability_model = tf.keras.Sequential([model,\n",
        "                                         tf.keras.layers.Softmax()]) # Model linear outputs are transformed into probabilities\n",
        "\n",
        "predictions = probability_model.predict(test_images)\n",
        "predicted_labels = np.argmax(predictions, axis=1)\n",
        "\n",
        "print(\"\\n1st prediction\\n\", predictions[0])\n",
        "print(\"\\nHighest confidence value:\", predicted_labels[0])"
      ],
      "metadata": {
        "id": "-DNnocRsnYAB",
        "colab": {
          "base_uri": "https://localhost:8080/"
        },
        "outputId": "9fc7ab99-141d-4e00-a610-d12dd8b1bf36"
      },
      "execution_count": 18,
      "outputs": [
        {
          "output_type": "stream",
          "name": "stdout",
          "text": [
            "\u001b[1m63/63\u001b[0m \u001b[32m━━━━━━━━━━━━━━━━━━━━\u001b[0m\u001b[37m\u001b[0m \u001b[1m0s\u001b[0m 2ms/step\n",
            "\n",
            "1st prediction\n",
            " [0.13659696 0.13238768 0.32364714 0.1416305  0.13260242 0.13313523]\n",
            "\n",
            "Highest confidence value: 2\n"
          ]
        }
      ]
    },
    {
      "cell_type": "code",
      "source": [
        "# Verify predictions\n",
        "def plot_comparison(idx):\n",
        "  fig, (ax1, ax2) = plt.subplots(1, 2, figsize=(6, 2))\n",
        "  fig.suptitle(f\"Prediction evaluation (img {idx})\")\n",
        "\n",
        "  plt.subplot(1,2,1)\n",
        "  plt.imshow(test_images[idx])\n",
        "\n",
        "  if predicted_labels[idx] == test_labels[idx]:\n",
        "    color = 'green'\n",
        "  else:\n",
        "    color = 'red'\n",
        "\n",
        "  plt.xlabel(f\"{class_names[predicted_labels[idx]]} {int(100*np.max(predictions))}% ({class_names[test_labels[idx]]})\", color=color)\n",
        "\n",
        "  plt.subplot(1,2,2)\n",
        "  plt.xticks(range(len(class_names)))\n",
        "  plt.yticks([])\n",
        "\n",
        "  prediction_plt = plt.bar(range(len(class_names)), predictions[idx], color=\"#777777\")\n",
        "  plt.ylim([0, 1])\n",
        "\n",
        "  prediction_plt[predicted_labels[idx]].set_color('red')\n",
        "  prediction_plt[test_labels[idx]].set_color('green')\n",
        "\n",
        "plot_comparison(1)\n",
        "plot_comparison(2)"
      ],
      "metadata": {
        "colab": {
          "base_uri": "https://localhost:8080/",
          "height": 451
        },
        "id": "qlR1SUxjKewY",
        "outputId": "e1822e80-9d27-4183-bcfa-0a298c131110"
      },
      "execution_count": 19,
      "outputs": [
        {
          "output_type": "display_data",
          "data": {
            "text/plain": [
              "<Figure size 600x200 with 2 Axes>"
            ],
            "image/png": "[encoded data removed]"
          },
          "metadata": {}
        },
        {
          "output_type": "display_data",
          "data": {
            "text/plain": [
              "<Figure size 600x200 with 2 Axes>"
            ],
            "image/png": "[encoded data removed]"
          },
          "metadata": {}
        }
      ]
    },
    {
      "cell_type": "code",
      "source": [
        "from tabulate import tabulate\n",
        "\n",
        "# Confusion matrix\n",
        "count_predictions = []\n",
        "headers = ['↓ True vs Predicted →', '0', '1', '2', '3', '4', '5', '↓ Total ↓']\n",
        "\n",
        "for i in range(len(class_names)):\n",
        "  count_predictions.append([0 for i in range(len(class_names) + 2)])\n",
        "  count_predictions[i][0] = i\n",
        "\n",
        "for i in range(len(test_labels)):\n",
        "  count_predictions[test_labels[i]][predicted_labels[i] + 1] += 1\n",
        "  count_predictions[test_labels[i]][7] += 1\n",
        "\n",
        "print(tabulate(count_predictions, headers))"
      ],
      "metadata": {
        "colab": {
          "base_uri": "https://localhost:8080/"
        },
        "id": "EtHWqCdVWDqR",
        "outputId": "cfa15cdc-69b5-4ab4-c100-5eff74e43b17"
      },
      "execution_count": 69,
      "outputs": [
        {
          "output_type": "stream",
          "name": "stdout",
          "text": [
            "  ↓ True vs Predicted →    0    1    2    3    4    5    ↓ Total ↓\n",
            "-----------------------  ---  ---  ---  ---  ---  ---  -----------\n",
            "                      0  445    0    8    0    8    0          461\n",
            "                      1    0  213    0    1   10    0          224\n",
            "                      2    2    1  376   15    0    3          397\n",
            "                      3    0    1   41   62    7  100          211\n",
            "                      4    4    9    1    3  210   10          237\n",
            "                      5    0    1    9   35   15  410          470\n"
          ]
        }
      ]
    },
    {
      "cell_type": "markdown",
      "source": [
        "> Fin del 1er avance: 6 de abril del 2025"
      ],
      "metadata": {
        "id": "Ly2wWqhmKgPy"
      }
    },
    {
      "cell_type": "code",
      "source": [
        "# Comprobación\n",
        "from tensorflow.math import confusion_matrix\n",
        "\n",
        "prediction_matrix = confusion_matrix(test_labels, predicted_labels).numpy()\n",
        "\n",
        "print(tabulate(prediction_matrix, headers[1:]))"
      ],
      "metadata": {
        "colab": {
          "base_uri": "https://localhost:8080/"
        },
        "id": "4ET_zixNkYjY",
        "outputId": "20d4bf3d-ebf5-4279-bd6d-95da639bcf37"
      },
      "execution_count": 59,
      "outputs": [
        {
          "output_type": "stream",
          "name": "stdout",
          "text": [
            "  0    1    2    3    4    5\n",
            "---  ---  ---  ---  ---  ---\n",
            "445    0    8    0    8    0\n",
            "  0  213    0    1   10    0\n",
            "  2    1  376   15    0    3\n",
            "  0    1   41   62    7  100\n",
            "  4    9    1    3  210   10\n",
            "  0    1    9   35   15  410\n"
          ]
        }
      ]
    },
    {
      "cell_type": "markdown",
      "source": [
        "### Base metrics\n",
        "\n",
        "- **Accuracy** (overall correctness of a model) <br>\n",
        "  `(TP + TN) / Todo`\n",
        "- **Precision** (accuracy of positive predictions) <br>\n",
        "  `TP / (TP + FP)`\n",
        "- **Recall** (how well the model identifies positive instances) <br>\n",
        "  `TP / (TP + FN)`\n",
        "- **F1** (represents precision and recall in a single value) <br>\n",
        "  `Precision * Recall / (Precision * Recall)`\n",
        "- **MCC** (considers all elements of the confusion matrix) <br>\n",
        "  `(TP * TN - FP * FN) / sqrt((TP + FP) * (TP + FN) * (TN + FP) * (TN + FN))`"
      ],
      "metadata": {
        "id": "NZcZpmYBcMYj"
      }
    },
    {
      "cell_type": "code",
      "source": [
        "print(f\"TRAIN ACC vs TEST ACC\\n{accuracy} ↔ {test_acc}\")"
      ],
      "metadata": {
        "colab": {
          "base_uri": "https://localhost:8080/"
        },
        "id": "IYkeT9hg6KkK",
        "outputId": "10d0c03e-dd14-448d-d04c-9d696a4d3698"
      },
      "execution_count": 38,
      "outputs": [
        {
          "output_type": "stream",
          "name": "stdout",
          "text": [
            "TRAIN ACC vs TEST ACC\n",
            "0.8765 ↔ 0.8579999804496765\n"
          ]
        }
      ]
    },
    {
      "cell_type": "code",
      "source": [
        "# TRABAJO EN PROCESO\n",
        "\n",
        "for i in range(len(class_names)):\n",
        "  count_predictions.append([0 for i in range(len(class_names) + 2)])\n",
        "  count_predictions[i][0] = i\n",
        "\n",
        "for i in range(len(test_labels)):\n",
        "  count_predictions[test_labels[i]][predicted_labels[i] + 1] += 1\n",
        "  count_predictions[test_labels[i]][7] += 1\n",
        "\n",
        "Total = np.sum(prediction_matrix)\n",
        "TP = 0\n",
        "TN = 0\n",
        "FP = 0\n",
        "FN = 0\n",
        "\n"
      ],
      "metadata": {
        "id": "gfwQ4d9AfZ78"
      },
      "execution_count": 68,
      "outputs": []
    },
    {
      "cell_type": "code",
      "source": [
        "# TRABAJO EN PROCESO\n",
        "\n",
        "# 1st model evaluation\n",
        "h = [\"Accuracy\", \"Precision\", \"Recall\", \"F1\"]\n",
        "m1 = [test_acc]\n",
        "\n",
        "print(tabulate(m1, h))"
      ],
      "metadata": {
        "id": "O9NyBj22eo1v"
      },
      "execution_count": null,
      "outputs": []
    },
    {
      "cell_type": "markdown",
      "source": [
        "### Observaciones importantes\n",
        "\n",
        "#### Train vs test accuracy\n",
        "1. La primera versión de este modelo es overfitting, pues la accuracy del training es mayor a la que se obtiene una vez que se prueba\n",
        "\n",
        "#### Matriz de confusión\n",
        "1. Las clases con más instancias (0 y 5) tienen más del doble de registros que las de menos (3 y 1)\n",
        "2. La 3ra clase es la que menos intancias predecidas correctamente tiene\n",
        "- Es confundida en su mayoría por las clases 2 y 5\n",
        "- Es la clase con menos instancias"
      ],
      "metadata": {
        "id": "_1qHlSpevhMr"
      }
    },
    {
      "cell_type": "markdown",
      "source": [
        "> Fin del 2do avance: 13 de abril del 2025"
      ],
      "metadata": {
        "id": "PmzRkQMkyiW0"
      }
    },
    {
      "cell_type": "code",
      "source": [
        "# TRABAJO EN PROCESO\n",
        "\n",
        "from tensorflow.keras import optimizers\n",
        "from tensorflow.keras import models\n",
        "from tensorflow.keras import layers\n",
        "\n",
        "model2 = models.Sequential()\n",
        "model2.add(layers.Conv2D(10, (3, 3), activation=\"relu\", input_shape = (150,150,3)))"
      ],
      "metadata": {
        "id": "H5TdIZ7M4mWo",
        "colab": {
          "base_uri": "https://localhost:8080/"
        },
        "outputId": "de7bcf30-e8cf-47dc-e76d-4c4c774e62ba"
      },
      "execution_count": 72,
      "outputs": [
        {
          "output_type": "stream",
          "name": "stderr",
          "text": [
            "/usr/local/lib/python3.11/dist-packages/keras/src/layers/convolutional/base_conv.py:107: UserWarning: Do not pass an `input_shape`/`input_dim` argument to a layer. When using Sequential models, prefer using an `Input(shape)` object as the first layer in the model instead.\n",
            "  super().__init__(activity_regularizer=activity_regularizer, **kwargs)\n"
          ]
        }
      ]
    }
  ],
  "metadata": {
    "colab": {
      "provenance": []
    },
    "kernelspec": {
      "display_name": "Python 3",
      "name": "python3"
    },
    "language_info": {
      "name": "python"
    }
  },
  "nbformat": 4,
  "nbformat_minor": 0
}